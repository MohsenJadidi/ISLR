{
  "nbformat": 4,
  "nbformat_minor": 0,
  "metadata": {
    "colab": {
      "name": "Q1.ipynb",
      "provenance": [],
      "collapsed_sections": [],
      "authorship_tag": "ABX9TyPf+0VfuswSkSSkyxjUWQSG",
      "include_colab_link": true
    },
    "kernelspec": {
      "name": "python3",
      "display_name": "Python 3"
    },
    "accelerator": "GPU"
  },
  "cells": [
    {
      "cell_type": "markdown",
      "metadata": {
        "id": "view-in-github",
        "colab_type": "text"
      },
      "source": [
        "<a href=\"https://colab.research.google.com/github/MohsenJadidi/ISLR/blob/master/Assignment3/Q1.ipynb\" target=\"_parent\"><img src=\"https://colab.research.google.com/assets/colab-badge.svg\" alt=\"Open In Colab\"/></a>"
      ]
    },
    {
      "cell_type": "markdown",
      "metadata": {
        "id": "OfoEHVEb5rru"
      },
      "source": [
        "# Assignment 3 - Q1 (Fraud-detection using logistic regression & SVM)\r\n",
        "Statistical Learning Theory Course - Fall 2020 @ AUT\r\n",
        "\r\n",
        "Author: MohammadMohsen Jadidi | email : mohsenjadidi@aut.ac.ir"
      ]
    },
    {
      "cell_type": "markdown",
      "metadata": {
        "id": "U7zNuhDI6Jli"
      },
      "source": [
        "## Mounting Google Drive"
      ]
    },
    {
      "cell_type": "code",
      "metadata": {
        "colab": {
          "base_uri": "https://localhost:8080/"
        },
        "id": "Y6Kx2ArW6JQh",
        "outputId": "bb079a47-24fe-4c99-aa6b-953d235403f9"
      },
      "source": [
        "from google.colab import drive\r\n",
        "drive.mount('/content/drive')"
      ],
      "execution_count": 1,
      "outputs": [
        {
          "output_type": "stream",
          "text": [
            "Mounted at /content/drive\n"
          ],
          "name": "stdout"
        }
      ]
    },
    {
      "cell_type": "markdown",
      "metadata": {
        "id": "jVuwiGlk-3ce"
      },
      "source": [
        "## Read Dataset"
      ]
    },
    {
      "cell_type": "code",
      "metadata": {
        "colab": {
          "base_uri": "https://localhost:8080/"
        },
        "id": "ZcbMQemP2LnA",
        "outputId": "5203c029-f670-4350-c45f-c593308e20b1"
      },
      "source": [
        "import numpy as np\r\n",
        "import pandas as pd\r\n",
        "import seaborn as sn\r\n",
        "import matplotlib.pyplot as plt\r\n",
        "\r\n",
        "address = '/content/drive/My Drive/ISLR Course - Fall 2020/Assignment3/creditcard.csv'\r\n",
        "credit_card = pd.read_csv(address)\r\n",
        "'''\r\n",
        "f, ax = plt.subplots(figsize=(7, 5))\r\n",
        "sn.countplot(x='Class', data=credit_card)\r\n",
        "_ = plt.title('# Fraud vs NonFraud')\r\n",
        "_ = plt.xlabel('Class (1==Fraud)')\r\n",
        "'''\r\n",
        "numClass0 = credit_card['Class'].value_counts()[0]\r\n",
        "numClass1 = credit_card['Class'].value_counts()[1]\r\n",
        "\r\n",
        "print('Number of Class 0 = ', numClass0)\r\n",
        "print('Number of Class 1 = ', numClass1)"
      ],
      "execution_count": 2,
      "outputs": [
        {
          "output_type": "stream",
          "text": [
            "Number of Class 0 =  181766\n",
            "Number of Class 1 =  365\n"
          ],
          "name": "stdout"
        }
      ]
    },
    {
      "cell_type": "markdown",
      "metadata": {
        "id": "TqkFKsVI8a_f"
      },
      "source": [
        "## Preprocessing"
      ]
    },
    {
      "cell_type": "code",
      "metadata": {
        "id": "ekL7fqFR8cpC"
      },
      "source": [
        "from sklearn.model_selection import train_test_split\r\n",
        "\r\n",
        "X = credit_card.drop(columns='Class', axis=1)\r\n",
        "y = credit_card.Class.values\r\n",
        "\r\n",
        "np.random.seed(seed=42)\r\n",
        "X_train, X_test, y_train, y_test = train_test_split(X, y, test_size=0.25)"
      ],
      "execution_count": 3,
      "outputs": []
    },
    {
      "cell_type": "markdown",
      "metadata": {
        "id": "ERJdmd438uN_"
      },
      "source": [
        "## Part 3 - SVM"
      ]
    },
    {
      "cell_type": "markdown",
      "metadata": {
        "id": "5_0EuL38802-"
      },
      "source": [
        "### Linear SVM"
      ]
    },
    {
      "cell_type": "code",
      "metadata": {
        "colab": {
          "base_uri": "https://localhost:8080/"
        },
        "id": "hHlyEwms8vMn",
        "outputId": "91cdd357-7f71-4788-fe37-5cfdb2279cf3"
      },
      "source": [
        "from sklearn import svm\r\n",
        "from sklearn.preprocessing import StandardScaler\r\n",
        "from sklearn.metrics import accuracy_score, confusion_matrix \r\n",
        "\r\n",
        "scaler = StandardScaler()\r\n",
        "classifier = svm.SVC(kernel='linear', tol=1e-2, max_iter=2000) \r\n",
        "classifier.fit(scaler.fit_transform(X_train), y_train)"
      ],
      "execution_count": 4,
      "outputs": [
        {
          "output_type": "stream",
          "text": [
            "/usr/local/lib/python3.6/dist-packages/sklearn/svm/_base.py:231: ConvergenceWarning: Solver terminated early (max_iter=2000).  Consider pre-processing your data with StandardScaler or MinMaxScaler.\n",
            "  % self.max_iter, ConvergenceWarning)\n"
          ],
          "name": "stderr"
        },
        {
          "output_type": "execute_result",
          "data": {
            "text/plain": [
              "SVC(C=1.0, break_ties=False, cache_size=200, class_weight=None, coef0=0.0,\n",
              "    decision_function_shape='ovr', degree=3, gamma='scale', kernel='linear',\n",
              "    max_iter=2000, probability=False, random_state=None, shrinking=True,\n",
              "    tol=0.01, verbose=False)"
            ]
          },
          "metadata": {
            "tags": []
          },
          "execution_count": 4
        }
      ]
    },
    {
      "cell_type": "markdown",
      "metadata": {
        "id": "JuFfZv4M9Cgt"
      },
      "source": [
        "### rbf kernel"
      ]
    },
    {
      "cell_type": "code",
      "metadata": {
        "colab": {
          "base_uri": "https://localhost:8080/",
          "height": 466
        },
        "id": "4HXZqqx29C6p",
        "outputId": "53a482d2-06cf-4b98-ec67-be7564e051cc"
      },
      "source": [
        "scaler = StandardScaler()\r\n",
        "classifier = svm.SVC(kernel='rbf')\r\n",
        "classifier.fit(scaler.fit_transform(X_train), y_train)\r\n",
        "\r\n",
        "y_train_pred = classifier.predict(scaler.fit_transform(X_train))\r\n",
        "train_accuracy = accuracy_score(y_train, y_train_pred)*100\r\n",
        "confusionMatrix = confusion_matrix(y_train, y_train_pred)\r\n",
        "plt.figure(figsize=[3,3])\r\n",
        "sn.heatmap(confusionMatrix, cmap='inferno', annot=True, fmt='d', linewidths=.25)\r\n",
        "plt.xlabel('train accuracy = {:4f}'.format(train_accuracy))\r\n",
        "plt.tight_layout()\r\n",
        "print('Train accuracy: %.4f %%' % train_accuracy)\r\n",
        "\r\n",
        "y_test_pred = classifier.predict(scaler.fit_transform(X_test))\r\n",
        "test_accuracy = accuracy_score(y_test, y_test_pred)*100\r\n",
        "confusionMatrix = confusion_matrix(y_test, y_test_pred)\r\n",
        "plt.figure(figsize=[3,3])\r\n",
        "sn.heatmap(confusionMatrix, cmap='inferno', annot=True, fmt='d', linewidths=.25)\r\n",
        "plt.xlabel('test accuracy = {:4f}'.format(test_accuracy))\r\n",
        "plt.tight_layout()\r\n",
        "print('Test accuracy: %.4f %%' % test_accuracy)"
      ],
      "execution_count": 5,
      "outputs": [
        {
          "output_type": "stream",
          "text": [
            "Train accuracy: 99.9693 %\n",
            "Test accuracy: 99.9429 %\n"
          ],
          "name": "stdout"
        },
        {
          "output_type": "display_data",
          "data": {
            "image/png": "[encoded data removed]",
            "text/plain": [
              "<Figure size 216x216 with 2 Axes>"
            ]
          },
          "metadata": {
            "tags": [],
            "needs_background": "light"
          }
        },
        {
          "output_type": "display_data",
          "data": {
            "image/png": "[encoded data removed]",
            "text/plain": [
              "<Figure size 216x216 with 2 Axes>"
            ]
          },
          "metadata": {
            "tags": [],
            "needs_background": "light"
          }
        }
      ]
    },
    {
      "cell_type": "markdown",
      "metadata": {
        "id": "0cbIQGfA9SXr"
      },
      "source": [
        "### poly kernel"
      ]
    },
    {
      "cell_type": "code",
      "metadata": {
        "colab": {
          "base_uri": "https://localhost:8080/",
          "height": 466
        },
        "id": "xWk1QD229VQy",
        "outputId": "3e0565fc-4f43-4592-ddf3-9b0d20b4f141"
      },
      "source": [
        "scaler = StandardScaler()\r\n",
        "classifier = svm.SVC(kernel='poly', C=2)\r\n",
        "classifier.fit(scaler.fit_transform(X_train), y_train)\r\n",
        "\r\n",
        "y_train_pred = classifier.predict(scaler.fit_transform(X_train))\r\n",
        "train_accuracy = accuracy_score(y_train, y_train_pred)*100\r\n",
        "confusionMatrix = confusion_matrix(y_train, y_train_pred)\r\n",
        "plt.figure(figsize=[3,3])\r\n",
        "sn.heatmap(confusionMatrix, cmap='inferno', annot=True, fmt='d', linewidths=.25)\r\n",
        "plt.xlabel('train accuracy = {:4f}'.format(train_accuracy))\r\n",
        "plt.tight_layout()\r\n",
        "print('Train accuracy: %.4f %%' % train_accuracy)\r\n",
        "\r\n",
        "y_test_pred = classifier.predict(scaler.fit_transform(X_test))\r\n",
        "test_accuracy = accuracy_score(y_test, y_test_pred)*100\r\n",
        "confusionMatrix = confusion_matrix(y_test, y_test_pred)\r\n",
        "plt.figure(figsize=[3,3])\r\n",
        "sn.heatmap(confusionMatrix, cmap='inferno', annot=True, fmt='d', linewidths=.25)\r\n",
        "plt.xlabel('test accuracy = {:4f}'.format(test_accuracy))\r\n",
        "plt.tight_layout()\r\n",
        "print('Test accuracy: %.4f %%' % test_accuracy)"
      ],
      "execution_count": 6,
      "outputs": [
        {
          "output_type": "stream",
          "text": [
            "Train accuracy: 99.9795 %\n",
            "Test accuracy: 99.9473 %\n"
          ],
          "name": "stdout"
        },
        {
          "output_type": "display_data",
          "data": {
            "image/png": "[encoded data removed]",
            "text/plain": [
              "<Figure size 216x216 with 2 Axes>"
            ]
          },
          "metadata": {
            "tags": [],
            "needs_background": "light"
          }
        },
        {
          "output_type": "display_data",
          "data": {
            "image/png": "[encoded data removed]",
            "text/plain": [
              "<Figure size 216x216 with 2 Axes>"
            ]
          },
          "metadata": {
            "tags": [],
            "needs_background": "light"
          }
        }
      ]
    }
  ]
}