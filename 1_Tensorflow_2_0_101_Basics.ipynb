{
  "nbformat": 4,
  "nbformat_minor": 0,
  "metadata": {
    "colab": {
      "name": "1 - Tensorflow 2.0 - 101 - Basics.ipynb",
      "provenance": [],
      "collapsed_sections": []
    },
    "kernelspec": {
      "name": "python3",
      "display_name": "Python 3"
    },
    "accelerator": "GPU"
  },
  "cells": [
    {
      "cell_type": "code",
      "metadata": {
        "id": "sAOSDVob-xsv"
      },
      "source": [
        "  #from __future__ import absolute_import, division, print_function, unicode_literals\n",
        "# !pip uninstall tensorflow-gpu -y\n",
        "# !pip install tensorflow-gpu==2.0\n"
      ],
      "execution_count": null,
      "outputs": []
    },
    {
      "cell_type": "code",
      "metadata": {
        "id": "RWdcqPpPhnQy"
      },
      "source": [
        "try:\n",
        "  # %tensorflow_version only exists in Colab.\n",
        "  %tensorflow_version 2.x\n",
        "except Exception:\n",
        "  pass\n"
      ],
      "execution_count": null,
      "outputs": []
    },
    {
      "cell_type": "code",
      "metadata": {
        "id": "XjzlvG5L-0zo",
        "outputId": "ed2d3414-5e3b-46d7-e0a2-66f74b6226c1",
        "colab": {
          "base_uri": "https://localhost:8080/",
          "height": 35
        }
      },
      "source": [
        "import tensorflow as tf\n",
        "print(tf.__version__)\n",
        "\n",
        "import numpy as np\n",
        "\n",
        "from tensorflow.keras.layers import Dense, Flatten, Conv2D\n",
        "from tensorflow.keras import Model\n",
        "\n",
        "import matplotlib.pyplot as plt\n"
      ],
      "execution_count": null,
      "outputs": [
        {
          "output_type": "stream",
          "text": [
            "2.3.0\n"
          ],
          "name": "stdout"
        }
      ]
    },
    {
      "cell_type": "code",
      "metadata": {
        "id": "0OOt09HQiH4Q"
      },
      "source": [
        "a=tf.constant(2,name='a')\n",
        "b=tf.constant(3,name='b')\n"
      ],
      "execution_count": null,
      "outputs": []
    },
    {
      "cell_type": "code",
      "metadata": {
        "id": "8HD79GpIsnYa"
      },
      "source": [
        ""
      ],
      "execution_count": null,
      "outputs": []
    },
    {
      "cell_type": "code",
      "metadata": {
        "id": "BA1eFy7QiQWX"
      },
      "source": [
        "x=tf.add(a,b)"
      ],
      "execution_count": null,
      "outputs": []
    },
    {
      "cell_type": "code",
      "metadata": {
        "id": "4AWWKHs7iW0M",
        "outputId": "64e6c995-18da-41b0-83eb-b99014b6fba5",
        "colab": {
          "base_uri": "https://localhost:8080/",
          "height": 35
        }
      },
      "source": [
        "x"
      ],
      "execution_count": null,
      "outputs": [
        {
          "output_type": "execute_result",
          "data": {
            "text/plain": [
              "<tf.Tensor: shape=(), dtype=int32, numpy=5>"
            ]
          },
          "metadata": {
            "tags": []
          },
          "execution_count": 6
        }
      ]
    },
    {
      "cell_type": "code",
      "metadata": {
        "id": "HBnN_PZLiW__",
        "outputId": "32892343-e031-4917-d66f-c7bc7c22140c",
        "colab": {
          "base_uri": "https://localhost:8080/",
          "height": 35
        }
      },
      "source": [
        "print(x)"
      ],
      "execution_count": null,
      "outputs": [
        {
          "output_type": "stream",
          "text": [
            "tf.Tensor(5, shape=(), dtype=int32)\n"
          ],
          "name": "stdout"
        }
      ]
    },
    {
      "cell_type": "code",
      "metadata": {
        "id": "kR0GJ6FAiXNB",
        "outputId": "e686084f-567f-45d8-fdc7-7a16ba669d72",
        "colab": {
          "base_uri": "https://localhost:8080/",
          "height": 35
        }
      },
      "source": [
        "print(x.numpy())"
      ],
      "execution_count": null,
      "outputs": [
        {
          "output_type": "stream",
          "text": [
            "5\n"
          ],
          "name": "stdout"
        }
      ]
    },
    {
      "cell_type": "code",
      "metadata": {
        "id": "SCvFtXI4hmpW"
      },
      "source": [
        "Ve=tf.constant([2,2],name='vec')"
      ],
      "execution_count": null,
      "outputs": []
    },
    {
      "cell_type": "code",
      "metadata": {
        "id": "y_ESHnpR9cOG",
        "outputId": "3fe0c790-aa5d-4f4c-bcad-95fa407a97fa",
        "colab": {
          "base_uri": "https://localhost:8080/",
          "height": 35
        }
      },
      "source": [
        "Ve\n"
      ],
      "execution_count": null,
      "outputs": [
        {
          "output_type": "execute_result",
          "data": {
            "text/plain": [
              "<tf.Tensor: shape=(2,), dtype=int32, numpy=array([2, 2], dtype=int32)>"
            ]
          },
          "metadata": {
            "tags": []
          },
          "execution_count": 10
        }
      ]
    },
    {
      "cell_type": "code",
      "metadata": {
        "id": "HCEtRNd9a56I"
      },
      "source": [
        "All_one=tf.ones([2,2],np.int32)\n",
        "All_one_f=tf.ones([2,2],np.float32)"
      ],
      "execution_count": null,
      "outputs": []
    },
    {
      "cell_type": "code",
      "metadata": {
        "id": "_iGOmfVCbrcA",
        "outputId": "2ebcdbaa-bcc1-469f-d92f-fa56ba943f19",
        "colab": {
          "base_uri": "https://localhost:8080/",
          "height": 126
        }
      },
      "source": [
        "print(All_one)\n",
        "print(All_one_f)"
      ],
      "execution_count": null,
      "outputs": [
        {
          "output_type": "stream",
          "text": [
            "tf.Tensor(\n",
            "[[1 1]\n",
            " [1 1]], shape=(2, 2), dtype=int32)\n",
            "tf.Tensor(\n",
            "[[1. 1.]\n",
            " [1. 1.]], shape=(2, 2), dtype=float32)\n"
          ],
          "name": "stdout"
        }
      ]
    },
    {
      "cell_type": "code",
      "metadata": {
        "id": "gbSpGIlkLaik"
      },
      "source": [
        "v_a=tf.Variable(2,name='v_a')\n",
        "v_b=tf.Variable([2,3],name='v_b')\n",
        "v_c=tf.Variable([[1,2],[3,4]],name='v_c')\n",
        "v_d=tf.Variable(tf.random.normal([3,4]),name='v_d')"
      ],
      "execution_count": null,
      "outputs": []
    },
    {
      "cell_type": "code",
      "metadata": {
        "id": "bsrEI2RYbXya",
        "outputId": "a5afac72-a486-45ff-8b90-1d4246cc86fc",
        "colab": {
          "base_uri": "https://localhost:8080/",
          "height": 199
        }
      },
      "source": [
        "print(v_a)\n",
        "print(v_b)\n",
        "print(v_c)\n",
        "print(v_d)\n"
      ],
      "execution_count": null,
      "outputs": [
        {
          "output_type": "stream",
          "text": [
            "<tf.Variable 'v_a:0' shape=() dtype=int32, numpy=2>\n",
            "<tf.Variable 'v_b:0' shape=(2,) dtype=int32, numpy=array([2, 3], dtype=int32)>\n",
            "<tf.Variable 'v_c:0' shape=(2, 2) dtype=int32, numpy=\n",
            "array([[1, 2],\n",
            "       [3, 4]], dtype=int32)>\n",
            "<tf.Variable 'v_d:0' shape=(3, 4) dtype=float32, numpy=\n",
            "array([[-1.8388474 ,  0.18243489,  1.4366612 , -0.9564651 ],\n",
            "       [ 1.3697704 , -1.073245  ,  1.88686   ,  0.81094986],\n",
            "       [-0.4635033 , -0.01576581, -1.6562343 ,  0.16370268]],\n",
            "      dtype=float32)>\n"
          ],
          "name": "stdout"
        }
      ]
    },
    {
      "cell_type": "code",
      "metadata": {
        "id": "_ktbXv2cbedK",
        "outputId": "447f9837-fe33-4b8d-b2e2-2e91bbbfbe90",
        "colab": {
          "base_uri": "https://localhost:8080/",
          "height": 35
        }
      },
      "source": [
        "# v_b.assign(np.array([7,8]))\n",
        "v_b.assign(([7,8]))\n",
        "v_b.numpy()\n",
        "v_b.read_value()"
      ],
      "execution_count": null,
      "outputs": [
        {
          "output_type": "execute_result",
          "data": {
            "text/plain": [
              "<tf.Tensor: shape=(2,), dtype=int32, numpy=array([7, 8], dtype=int32)>"
            ]
          },
          "metadata": {
            "tags": []
          },
          "execution_count": 15
        }
      ]
    },
    {
      "cell_type": "code",
      "metadata": {
        "id": "XBkei9YGclGR",
        "outputId": "194c554a-9eb5-4b8d-9049-d85cf0ceeb42",
        "colab": {
          "base_uri": "https://localhost:8080/",
          "height": 54
        }
      },
      "source": [
        "print(v_b)\n",
        "v_e=v_b+[1,1]\n",
        "#v_b=v_b+1\n",
        "print(v_e)"
      ],
      "execution_count": null,
      "outputs": [
        {
          "output_type": "stream",
          "text": [
            "<tf.Variable 'v_b:0' shape=(2,) dtype=int32, numpy=array([7, 8], dtype=int32)>\n",
            "tf.Tensor([8 9], shape=(2,), dtype=int32)\n"
          ],
          "name": "stdout"
        }
      ]
    },
    {
      "cell_type": "code",
      "metadata": {
        "id": "WMtMTAST6N3p",
        "outputId": "c01fb59a-ae0a-4c9e-e6b4-5240f96c8036",
        "colab": {
          "base_uri": "https://localhost:8080/",
          "height": 35
        }
      },
      "source": [
        "v_b.assign_add([1,1])\n",
        "print(v_b)"
      ],
      "execution_count": null,
      "outputs": [
        {
          "output_type": "stream",
          "text": [
            "<tf.Variable 'v_b:0' shape=(2,) dtype=int32, numpy=array([8, 9], dtype=int32)>\n"
          ],
          "name": "stdout"
        }
      ]
    },
    {
      "cell_type": "code",
      "metadata": {
        "id": "R5_jVfi-6L69"
      },
      "source": [
        ""
      ],
      "execution_count": null,
      "outputs": []
    },
    {
      "cell_type": "code",
      "metadata": {
        "id": "1McKgg6a8WHb"
      },
      "source": [
        ""
      ],
      "execution_count": null,
      "outputs": []
    },
    {
      "cell_type": "code",
      "metadata": {
        "id": "6n50HWY4IiBE"
      },
      "source": [
        ""
      ],
      "execution_count": null,
      "outputs": []
    }
  ]
}