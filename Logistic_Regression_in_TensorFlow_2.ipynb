{
  "nbformat": 4,
  "nbformat_minor": 0,
  "metadata": {
    "colab": {
      "name": "Logistic Regression in TensorFlow 2.ipynb",
      "provenance": [],
      "collapsed_sections": [],
      "authorship_tag": "ABX9TyM9yfXh6LKTPilWnLk78e+b",
      "include_colab_link": true
    },
    "kernelspec": {
      "name": "python3",
      "display_name": "Python 3"
    }
  },
  "cells": [
    {
      "cell_type": "markdown",
      "metadata": {
        "id": "view-in-github",
        "colab_type": "text"
      },
      "source": [
        "<a href=\"https://colab.research.google.com/github/MohsenJadidi/ISLR/blob/master/Logistic_Regression_in_TensorFlow_2.ipynb\" target=\"_parent\"><img src=\"https://colab.research.google.com/assets/colab-badge.svg\" alt=\"Open In Colab\"/></a>"
      ]
    },
    {
      "cell_type": "markdown",
      "metadata": {
        "id": "4GovsEJgo9HA"
      },
      "source": [
        "# Logistic Regression in TensorFlow 2.0 (MNIST Data set)\n",
        "\n",
        "Author: https://theclickreader.com/courses/tensorflow-2-for-deep-learning/lessons/logistic-regression-with-tensorflow/\n",
        "\n",
        "Modify by: MohammadMohsen Jadidi | email : mohsenjadidi@aut.ac.ir"
      ]
    },
    {
      "cell_type": "markdown",
      "metadata": {
        "id": "WFpk8TdtpyWp"
      },
      "source": [
        "## Read Data set"
      ]
    },
    {
      "cell_type": "code",
      "metadata": {
        "id": "N-2Jj344pyBe",
        "outputId": "9974379c-b478-49c2-9f44-397bf3925149",
        "colab": {
          "base_uri": "https://localhost:8080/"
        }
      },
      "source": [
        "import tensorflow as tf\n",
        "from tensorflow.keras.datasets import mnist\n",
        "import numpy as np\n",
        "\n",
        "# Load train and test data\n",
        "(x_train, y_train), (x_test, y_test) = mnist.load_data()\n",
        "# Converting data to float32\n",
        "x_train, x_test = np.array(x_train, np.float32), np.array(x_test, np.float32)\n",
        "# Flatten images to 1-D vector of 784 features (28*28).\n",
        "x_train, x_test = x_train.reshape(x_train.shape[0], -1), x_test.reshape(x_test.shape[0], -1)\n",
        "# Normalize images value from [0, 255] to [0, 1].\n",
        "x_train, x_test = x_train / 255., x_test / 255.\n",
        "\n",
        "# Batching \n",
        "train_data = tf.data.Dataset.from_tensor_slices((x_train, y_train))\n",
        "train_data = train_data.repeat().shuffle(5000).batch(256).prefetch(1)"
      ],
      "execution_count": 1,
      "outputs": [
        {
          "output_type": "stream",
          "text": [
            "Downloading data from https://storage.googleapis.com/tensorflow/tf-keras-datasets/mnist.npz\n",
            "11493376/11490434 [==============================] - 0s 0us/step\n"
          ],
          "name": "stdout"
        }
      ]
    },
    {
      "cell_type": "markdown",
      "metadata": {
        "id": "YkD9c5_Cq4bF"
      },
      "source": [
        "## Create Model"
      ]
    },
    {
      "cell_type": "code",
      "metadata": {
        "id": "tkW_JLSto6we"
      },
      "source": [
        "class Model:\n",
        "    def __init__(self):\n",
        "        self.W = tf.Variable(tf.ones([28*28, 10]), name=\"weight\")\n",
        "        self.b = tf.Variable(tf.zeros([10]), name=\"bias\")\n",
        "    def __call__(self, x):\n",
        "        return tf.nn.softmax(tf.matmul(x, self.W) + self.b)\n",
        "    \n",
        "   \n",
        "def loss(y_pred, y_true):\n",
        "    # Encode label to a one hot vector\n",
        "    y_true = tf.one_hot(y_true, depth=10)\n",
        "    \n",
        "    # Clip prediction values to avoid log(0) error\n",
        "    y_pred = tf.clip_by_value(y_pred, 1e-9, 1.)\n",
        "    \n",
        "    # Compute cross-entropy\n",
        "    return tf.reduce_mean(-tf.reduce_sum(y_true * tf.math.log(y_pred),1))\n",
        "def accuracy(y_pred, y_true):\n",
        "    # Predicted class is the index of highest score in prediction vector (i.e. argmax).\n",
        "    correct_prediction = tf.equal(tf.argmax(y_pred, 1), tf.cast(y_true, tf.int64))\n",
        "    return tf.reduce_mean(tf.cast(correct_prediction, tf.float32))\n",
        "# Stochastic gradient descent optimizer.\n",
        "optimizer = tf.optimizers.SGD(lr = 0.1)\n",
        "    \n",
        "\n",
        "def train(model, x, y):\n",
        "    with tf.GradientTape() as t:\n",
        "        pred = model(x)\n",
        "        current_loss = loss(pred, y)\n",
        "        print('Current Loss: ', current_loss.numpy())\n",
        "    # Compute gradients\n",
        "    gradients = t.gradient(current_loss, [model.W, model.b])\n",
        "    # Update W and b following gradients.\n",
        "    optimizer.apply_gradients(zip(gradients, [model.W, model.b]))"
      ],
      "execution_count": 8,
      "outputs": []
    },
    {
      "cell_type": "markdown",
      "metadata": {
        "id": "t_rlAvwbrRSn"
      },
      "source": [
        "## Train Model"
      ]
    },
    {
      "cell_type": "code",
      "metadata": {
        "id": "ORY4BlN_rTJ6",
        "outputId": "ce22efe0-5e30-4a25-8fdf-b127338d1394",
        "colab": {
          "base_uri": "https://localhost:8080/",
          "height": 1000
        }
      },
      "source": [
        "# Initialize the model\n",
        "model = Model()\n",
        "epochs = 100\n",
        "losses = []\n",
        "for epoch_count in range(epochs):\n",
        "    current_loss = loss(model(x_train), y_train)\n",
        "    losses.append(current_loss)\n",
        "    # Train the model\n",
        "    train(model, x_train, y_train)\n",
        "    \n",
        "import matplotlib.pyplot as plt\n",
        "plt.plot(losses)    "
      ],
      "execution_count": 9,
      "outputs": [
        {
          "output_type": "stream",
          "text": [
            "Current Loss:  2.302598\n",
            "Current Loss:  2.196943\n",
            "Current Loss:  2.1005516\n",
            "Current Loss:  2.0115418\n",
            "Current Loss:  1.9290576\n",
            "Current Loss:  1.8525742\n",
            "Current Loss:  1.7816719\n",
            "Current Loss:  1.7159634\n",
            "Current Loss:  1.6550753\n",
            "Current Loss:  1.598643\n",
            "Current Loss:  1.5463185\n",
            "Current Loss:  1.4977702\n",
            "Current Loss:  1.452686\n",
            "Current Loss:  1.4107739\n",
            "Current Loss:  1.3717636\n",
            "Current Loss:  1.3354081\n",
            "Current Loss:  1.3014787\n",
            "Current Loss:  1.2697687\n",
            "Current Loss:  1.2400889\n",
            "Current Loss:  1.2122676\n",
            "Current Loss:  1.1861496\n",
            "Current Loss:  1.161594\n",
            "Current Loss:  1.1384735\n",
            "Current Loss:  1.1166724\n",
            "Current Loss:  1.0960865\n",
            "Current Loss:  1.0766209\n",
            "Current Loss:  1.0581897\n",
            "Current Loss:  1.0407152\n",
            "Current Loss:  1.0241265\n",
            "Current Loss:  1.008359\n",
            "Current Loss:  0.9933547\n",
            "Current Loss:  0.97905976\n",
            "Current Loss:  0.9654258\n",
            "Current Loss:  0.9524073\n",
            "Current Loss:  0.9399642\n",
            "Current Loss:  0.9280592\n",
            "Current Loss:  0.91665804\n",
            "Current Loss:  0.90572876\n",
            "Current Loss:  0.8952421\n",
            "Current Loss:  0.8851721\n",
            "Current Loss:  0.87549365\n",
            "Current Loss:  0.86618394\n",
            "Current Loss:  0.85722196\n",
            "Current Loss:  0.84858817\n",
            "Current Loss:  0.84026426\n",
            "Current Loss:  0.83223385\n",
            "Current Loss:  0.824481\n",
            "Current Loss:  0.8169909\n",
            "Current Loss:  0.80975044\n",
            "Current Loss:  0.8027469\n",
            "Current Loss:  0.7959681\n",
            "Current Loss:  0.7894036\n",
            "Current Loss:  0.7830428\n",
            "Current Loss:  0.7768758\n",
            "Current Loss:  0.77089375\n",
            "Current Loss:  0.76508814\n",
            "Current Loss:  0.7594508\n",
            "Current Loss:  0.75397456\n",
            "Current Loss:  0.74865174\n",
            "Current Loss:  0.7434762\n",
            "Current Loss:  0.738442\n",
            "Current Loss:  0.73354226\n",
            "Current Loss:  0.728772\n",
            "Current Loss:  0.7241255\n",
            "Current Loss:  0.7195984\n",
            "Current Loss:  0.7151853\n",
            "Current Loss:  0.71088237\n",
            "Current Loss:  0.7066848\n",
            "Current Loss:  0.7025888\n",
            "Current Loss:  0.6985906\n",
            "Current Loss:  0.6946864\n",
            "Current Loss:  0.6908728\n",
            "Current Loss:  0.6871467\n",
            "Current Loss:  0.6835047\n",
            "Current Loss:  0.6799439\n",
            "Current Loss:  0.6764616\n",
            "Current Loss:  0.67305493\n",
            "Current Loss:  0.66972136\n",
            "Current Loss:  0.66645867\n",
            "Current Loss:  0.6632642\n",
            "Current Loss:  0.66013557\n",
            "Current Loss:  0.6570711\n",
            "Current Loss:  0.65406865\n",
            "Current Loss:  0.6511257\n",
            "Current Loss:  0.64824104\n",
            "Current Loss:  0.6454126\n",
            "Current Loss:  0.6426388\n",
            "Current Loss:  0.6399178\n",
            "Current Loss:  0.63724786\n",
            "Current Loss:  0.63462776\n",
            "Current Loss:  0.6320561\n",
            "Current Loss:  0.62953097\n",
            "Current Loss:  0.6270517\n",
            "Current Loss:  0.62461644\n",
            "Current Loss:  0.6222243\n",
            "Current Loss:  0.6198737\n",
            "Current Loss:  0.6175639\n",
            "Current Loss:  0.6152936\n",
            "Current Loss:  0.61306196\n",
            "Current Loss:  0.61086756\n"
          ],
          "name": "stdout"
        },
        {
          "output_type": "execute_result",
          "data": {
            "text/plain": [
              "[<matplotlib.lines.Line2D at 0x7f2e9166aa90>]"
            ]
          },
          "metadata": {
            "tags": []
          },
          "execution_count": 9
        },
        {
          "output_type": "display_data",
          "data": {
            "image/png": "[encoded data removed]",
            "text/plain": [
              "<Figure size 432x288 with 1 Axes>"
            ]
          },
          "metadata": {
            "tags": [],
            "needs_background": "light"
          }
        }
      ]
    }
  ]
}