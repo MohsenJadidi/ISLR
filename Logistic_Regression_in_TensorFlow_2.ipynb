{
  "nbformat": 4,
  "nbformat_minor": 0,
  "metadata": {
    "colab": {
      "name": "Logistic Regression in TensorFlow 2.ipynb",
      "provenance": [],
      "collapsed_sections": [],
      "authorship_tag": "ABX9TyNGqbF/BIqEFL/QUGnbixx0",
      "include_colab_link": true
    },
    "kernelspec": {
      "name": "python3",
      "display_name": "Python 3"
    }
  },
  "cells": [
    {
      "cell_type": "markdown",
      "metadata": {
        "id": "view-in-github",
        "colab_type": "text"
      },
      "source": [
        "<a href=\"https://colab.research.google.com/github/MohsenJadidi/ISLR/blob/master/Logistic_Regression_in_TensorFlow_2.ipynb\" target=\"_parent\"><img src=\"https://colab.research.google.com/assets/colab-badge.svg\" alt=\"Open In Colab\"/></a>"
      ]
    },
    {
      "cell_type": "markdown",
      "metadata": {
        "id": "4GovsEJgo9HA"
      },
      "source": [
        "# Logistic Regression in TensorFlow 2.0 (MNIST Data set)\n",
        "\n",
        "Author: https://theclickreader.com/courses/tensorflow-2-for-deep-learning/lessons/logistic-regression-with-tensorflow/\n",
        "\n",
        "Modify by: MohammadMohsen Jadidi | email : mohsenjadidi@aut.ac.ir"
      ]
    },
    {
      "cell_type": "markdown",
      "metadata": {
        "id": "WFpk8TdtpyWp"
      },
      "source": [
        "## Read Data set"
      ]
    },
    {
      "cell_type": "code",
      "metadata": {
        "id": "N-2Jj344pyBe",
        "colab": {
          "base_uri": "https://localhost:8080/"
        },
        "outputId": "e70e8659-1cf5-4a66-a1c5-aac49e8e282d"
      },
      "source": [
        "import tensorflow as tf\n",
        "from tensorflow.keras.datasets import mnist\n",
        "import numpy as np\n",
        "\n",
        "# Load train and test data\n",
        "(x_train, y_train), (x_test, y_test) = mnist.load_data()\n",
        "# Converting data to float32\n",
        "x_train, x_test = np.array(x_train, np.float32), np.array(x_test, np.float32)\n",
        "# Flatten images to 1-D vector of 784 features (28*28).\n",
        "x_train, x_test = x_train.reshape(x_train.shape[0], -1), x_test.reshape(x_test.shape[0], -1)\n",
        "# Normalize images value from [0, 255] to [0, 1].\n",
        "x_train, x_test = x_train / 255., x_test / 255.\n",
        "\n",
        "# Batching \n",
        "train_data = tf.data.Dataset.from_tensor_slices((x_train, y_train))\n",
        "train_data = train_data.repeat().shuffle(5000).batch(256).prefetch(1)"
      ],
      "execution_count": 1,
      "outputs": [
        {
          "output_type": "stream",
          "text": [
            "Downloading data from https://storage.googleapis.com/tensorflow/tf-keras-datasets/mnist.npz\n",
            "11493376/11490434 [==============================] - 0s 0us/step\n"
          ],
          "name": "stdout"
        }
      ]
    },
    {
      "cell_type": "markdown",
      "metadata": {
        "id": "YkD9c5_Cq4bF"
      },
      "source": [
        "## Create Model"
      ]
    },
    {
      "cell_type": "code",
      "metadata": {
        "id": "tkW_JLSto6we"
      },
      "source": [
        "from tensorflow.keras import Model\n",
        "\n",
        "class MyModel:\n",
        "    def __init__(self):\n",
        "        super(MyModel,self).__init__()\n",
        "        self.W = tf.Variable(tf.ones([28*28, 10]), name=\"weight\")\n",
        "        self.b = tf.Variable(tf.zeros([10]), name=\"bias\")\n",
        "    def __call__(self, x):\n",
        "        return tf.nn.softmax(tf.matmul(x, self.W) + self.b)\n",
        "    \n",
        "   \n",
        "def loss(y_pred, y_true):\n",
        "    # Encode label to a one hot vector\n",
        "    y_true = tf.one_hot(y_true, depth=10)\n",
        "    \n",
        "    # Clip prediction values to avoid log(0) error\n",
        "    y_pred = tf.clip_by_value(y_pred, 1e-9, 1.)\n",
        "    \n",
        "    # Compute cross-entropy\n",
        "    return tf.reduce_mean(-tf.reduce_sum(y_true * tf.math.log(y_pred),1))\n",
        "\n",
        "def accuracy(y_pred, y_true):\n",
        "    # Predicted class is the index of highest score in prediction vector (i.e. argmax).\n",
        "    correct_prediction = tf.equal(tf.argmax(y_pred, 1), tf.cast(y_true, tf.int64))\n",
        "    return tf.reduce_mean(tf.cast(correct_prediction, tf.float32))\n",
        "\n",
        "# Adma optimizer\n",
        "optimizer = tf.optimizers.Adam(lr = 0.1)\n",
        "    \n",
        "def train(model, x, y):\n",
        "    with tf.GradientTape() as t:\n",
        "        pred = model(x)\n",
        "        current_loss = loss(pred, y)\n",
        "        print('Current Loss: ', current_loss.numpy())\n",
        "    # Compute gradients\n",
        "    gradients = t.gradient(current_loss, [model.W, model.b])\n",
        "    # Update W and b following gradients.\n",
        "    optimizer.apply_gradients(zip(gradients, [model.W, model.b]))"
      ],
      "execution_count": 8,
      "outputs": []
    },
    {
      "cell_type": "markdown",
      "metadata": {
        "id": "t_rlAvwbrRSn"
      },
      "source": [
        "## Train Model"
      ]
    },
    {
      "cell_type": "code",
      "metadata": {
        "id": "ORY4BlN_rTJ6",
        "colab": {
          "base_uri": "https://localhost:8080/",
          "height": 1000
        },
        "outputId": "8b4feff9-7c70-4bbb-94b3-167e3fdd3186"
      },
      "source": [
        "# Initialize the model\n",
        "model = MyModel()\n",
        "epochs = 100\n",
        "losses = []\n",
        "acces = []\n",
        "for epoch_count in range(epochs):\n",
        "    current_loss = loss(model(x_train), y_train)\n",
        "    losses.append(current_loss)\n",
        "    \n",
        "    current_acc = accuracy(model(x_train), y_train)\n",
        "    acces.append(current_acc)\n",
        "    # Train the model\n",
        "    train(model, x_train, y_train)\n",
        "    \n",
        "import matplotlib.pyplot as plt\n",
        "plt.figure()\n",
        "plt.plot(losses) \n",
        "plt.xlabel('Epoch')\n",
        "plt.ylabel('Loss')\n",
        "\n",
        "plt.figure()\n",
        "plt.plot(acces)    \n",
        "plt.xlabel('Epoch')\n",
        "plt.ylabel('Loss')   "
      ],
      "execution_count": 9,
      "outputs": [
        {
          "output_type": "stream",
          "text": [
            "Current Loss:  2.302598\n",
            "Current Loss:  1.411404\n",
            "Current Loss:  1.2564114\n",
            "Current Loss:  1.0575781\n",
            "Current Loss:  0.7824031\n",
            "Current Loss:  0.85841614\n",
            "Current Loss:  0.6734951\n",
            "Current Loss:  0.6773694\n",
            "Current Loss:  0.7053803\n",
            "Current Loss:  0.6717931\n",
            "Current Loss:  0.628457\n",
            "Current Loss:  0.6097736\n",
            "Current Loss:  0.5912202\n",
            "Current Loss:  0.5651703\n",
            "Current Loss:  0.54080886\n",
            "Current Loss:  0.5272182\n",
            "Current Loss:  0.5287639\n",
            "Current Loss:  0.5401118\n",
            "Current Loss:  0.5345395\n",
            "Current Loss:  0.50323\n",
            "Current Loss:  0.47270587\n",
            "Current Loss:  0.46013638\n",
            "Current Loss:  0.45771456\n",
            "Current Loss:  0.4523318\n",
            "Current Loss:  0.4429029\n",
            "Current Loss:  0.43846223\n",
            "Current Loss:  0.43949476\n",
            "Current Loss:  0.432181\n",
            "Current Loss:  0.41408005\n",
            "Current Loss:  0.40024132\n",
            "Current Loss:  0.39666387\n",
            "Current Loss:  0.39379486\n",
            "Current Loss:  0.38505128\n",
            "Current Loss:  0.37780124\n",
            "Current Loss:  0.37694514\n",
            "Current Loss:  0.37334055\n",
            "Current Loss:  0.36324736\n",
            "Current Loss:  0.355775\n",
            "Current Loss:  0.35317844\n",
            "Current Loss:  0.34812403\n",
            "Current Loss:  0.34040028\n",
            "Current Loss:  0.33668926\n",
            "Current Loss:  0.33471444\n",
            "Current Loss:  0.3290445\n",
            "Current Loss:  0.3239739\n",
            "Current Loss:  0.32173073\n",
            "Current Loss:  0.31729043\n",
            "Current Loss:  0.3118862\n",
            "Current Loss:  0.3093444\n",
            "Current Loss:  0.30620787\n",
            "Current Loss:  0.30209956\n",
            "Current Loss:  0.29980075\n",
            "Current Loss:  0.297051\n",
            "Current Loss:  0.29354736\n",
            "Current Loss:  0.29096037\n",
            "Current Loss:  0.28802702\n",
            "Current Loss:  0.2849647\n",
            "Current Loss:  0.28270108\n",
            "Current Loss:  0.28026795\n",
            "Current Loss:  0.27813342\n",
            "Current Loss:  0.27607018\n",
            "Current Loss:  0.27341387\n",
            "Current Loss:  0.2713472\n",
            "Current Loss:  0.2691884\n",
            "Current Loss:  0.2673298\n",
            "Current Loss:  0.26594856\n",
            "Current Loss:  0.2639738\n",
            "Current Loss:  0.26232597\n",
            "Current Loss:  0.26073685\n",
            "Current Loss:  0.25907725\n",
            "Current Loss:  0.25794464\n",
            "Current Loss:  0.25645545\n",
            "Current Loss:  0.25518456\n",
            "Current Loss:  0.2540079\n",
            "Current Loss:  0.2527313\n",
            "Current Loss:  0.2517057\n",
            "Current Loss:  0.25051495\n",
            "Current Loss:  0.24951318\n",
            "Current Loss:  0.24854466\n",
            "Current Loss:  0.24759705\n",
            "Current Loss:  0.24668004\n",
            "Current Loss:  0.2457566\n",
            "Current Loss:  0.24494453\n",
            "Current Loss:  0.24414173\n",
            "Current Loss:  0.24341698\n",
            "Current Loss:  0.2426414\n",
            "Current Loss:  0.24196821\n",
            "Current Loss:  0.2412619\n",
            "Current Loss:  0.24063696\n",
            "Current Loss:  0.2400162\n",
            "Current Loss:  0.23942915\n",
            "Current Loss:  0.23887907\n",
            "Current Loss:  0.2383122\n",
            "Current Loss:  0.23780677\n",
            "Current Loss:  0.23728469\n",
            "Current Loss:  0.23682529\n",
            "Current Loss:  0.23635548\n",
            "Current Loss:  0.2359189\n",
            "Current Loss:  0.2354764\n",
            "Current Loss:  0.23506705\n"
          ],
          "name": "stdout"
        },
        {
          "output_type": "execute_result",
          "data": {
            "text/plain": [
              "Text(0, 0.5, 'Loss')"
            ]
          },
          "metadata": {
            "tags": []
          },
          "execution_count": 9
        },
        {
          "output_type": "display_data",
          "data": {
            "image/png": "[encoded data removed]",
            "text/plain": [
              "<Figure size 432x288 with 1 Axes>"
            ]
          },
          "metadata": {
            "tags": [],
            "needs_background": "light"
          }
        },
        {
          "output_type": "display_data",
          "data": {
            "image/png": "[encoded data removed]",
            "text/plain": [
              "<Figure size 432x288 with 1 Axes>"
            ]
          },
          "metadata": {
            "tags": [],
            "needs_background": "light"
          }
        }
      ]
    }
  ]
}