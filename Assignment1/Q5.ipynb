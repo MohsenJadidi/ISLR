{
  "nbformat": 4,
  "nbformat_minor": 0,
  "metadata": {
    "colab": {
      "name": "Q5.ipynb",
      "provenance": [],
      "collapsed_sections": [],
      "authorship_tag": "ABX9TyNWni/uNH4hBijnWGcrJHyi",
      "include_colab_link": true
    },
    "kernelspec": {
      "name": "python3",
      "display_name": "Python 3"
    }
  },
  "cells": [
    {
      "cell_type": "markdown",
      "metadata": {
        "id": "view-in-github",
        "colab_type": "text"
      },
      "source": [
        "<a href=\"https://colab.research.google.com/github/MohsenJadidi/ISLR/blob/master/Assignment1/Q5.ipynb\" target=\"_parent\"><img src=\"https://colab.research.google.com/assets/colab-badge.svg\" alt=\"Open In Colab\"/></a>"
      ]
    },
    {
      "cell_type": "markdown",
      "metadata": {
        "id": "bShSVbsMuFjn"
      },
      "source": [
        "# **Assignment 1 - Q5 (Regression model:)**\n",
        "Statistical Learning Theory Course - Fall 2020 @ AUT\n",
        "\n",
        "Author: MohammadMohsen Jadidi | email : mohsenjadidi@aut.ac.ir"
      ]
    },
    {
      "cell_type": "markdown",
      "metadata": {
        "id": "CeVBtLcbuO7W"
      },
      "source": [
        "# Part A"
      ]
    },
    {
      "cell_type": "code",
      "metadata": {
        "id": "1ynpEnZNuOAn",
        "outputId": "3570bb6e-df22-4503-e12b-1304c7fae78b",
        "colab": {
          "base_uri": "https://localhost:8080/",
          "height": 282
        }
      },
      "source": [
        "from sklearn.linear_model import LinearRegression\n",
        "import matplotlib.pyplot as plt\n",
        "\n",
        "X_train = [3.19,9.26,9.38,8.77,7.91,3.79,3.18,7.61,2.36,6.26,6.62,1.53,6.25,\n",
        "           7.93,7.07,4.58,4.14,2.14,9.04,4.56,3.99,6.71,2.51,0.84,6.13,5.22,\n",
        "           0.25,3.60,1.36,5.59,4.81,1.14,0.36,2.31,1.37,5.86,4.23,9.48,2.26,\n",
        "           0.77,4.33]\n",
        "Y_train = [46.40,172.16,209.00,203.31,82.88,62.57,14.38,177.00,8.01,82.35,\n",
        "           84.84,-5.59,54.96,167.17,83.09,-21.63,94.64,63.97,106.57,38.99,\n",
        "           88.26,66.99,-11.12,-0.44,65.08,61.47,-0.61,23.85,10.55,83.69,54.35,\n",
        "           51.82,-18.63,1.98,4.90,55.44,50.09,155.66,45.57,18.12,30.58]\n",
        "X_test = [5.65,0.07,8.84,5.14,6.65,1.35,5.45,7.39,3.35]\n",
        "Y_test = [98.52,16.09,198.45,75.90,85.11,47.64,14.76,141.03,-39.13]\n",
        "\n",
        "fig = plt.figure(num=1)\n",
        "ax = fig.add_subplot(1, 1, 1)\n",
        "scatter1 = ax.scatter(x=X_train, y=Y_train, color='b', alpha=1, marker='o')\n",
        "scatter2 = ax.scatter(x=X_test, y=Y_test, color='r', alpha=1, marker='o')\n",
        "ax.legend(['Train Set', 'Test Set'])"
      ],
      "execution_count": 2,
      "outputs": [
        {
          "output_type": "execute_result",
          "data": {
            "text/plain": [
              "<matplotlib.legend.Legend at 0x7f6e193b6908>"
            ]
          },
          "metadata": {
            "tags": []
          },
          "execution_count": 2
        },
        {
          "output_type": "display_data",
          "data": {
            "image/png": "[encoded data removed]",
            "text/plain": [
              "<Figure size 432x288 with 1 Axes>"
            ]
          },
          "metadata": {
            "tags": [],
            "needs_background": "light"
          }
        }
      ]
    },
    {
      "cell_type": "markdown",
      "metadata": {
        "id": "Rv6XiXkXwezT"
      },
      "source": [
        "# Part B"
      ]
    },
    {
      "cell_type": "code",
      "metadata": {
        "id": "AV3ANCr6qRND",
        "outputId": "172333c8-3f02-4839-8933-0bcc552cd257",
        "colab": {
          "base_uri": "https://localhost:8080/",
          "height": 35
        }
      },
      "source": [
        "import tensorflow as tf\n",
        "tf.__version__"
      ],
      "execution_count": null,
      "outputs": [
        {
          "output_type": "execute_result",
          "data": {
            "application/vnd.google.colaboratory.intrinsic+json": {
              "type": "string"
            },
            "text/plain": [
              "'2.3.0'"
            ]
          },
          "metadata": {
            "tags": []
          },
          "execution_count": 1
        }
      ]
    }
  ]
}