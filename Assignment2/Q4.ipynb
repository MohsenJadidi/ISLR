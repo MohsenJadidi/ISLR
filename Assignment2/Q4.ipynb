{
  "nbformat": 4,
  "nbformat_minor": 0,
  "metadata": {
    "colab": {
      "name": "Q4.ipynb",
      "provenance": [],
      "collapsed_sections": [],
      "authorship_tag": "ABX9TyP9ojvjbeUYOX8qHleIFoCd",
      "include_colab_link": true
    },
    "kernelspec": {
      "name": "python3",
      "display_name": "Python 3"
    }
  },
  "cells": [
    {
      "cell_type": "markdown",
      "metadata": {
        "id": "view-in-github",
        "colab_type": "text"
      },
      "source": [
        "<a href=\"https://colab.research.google.com/github/MohsenJadidi/ISLR/blob/master/Assignment2/Q4.ipynb\" target=\"_parent\"><img src=\"https://colab.research.google.com/assets/colab-badge.svg\" alt=\"Open In Colab\"/></a>"
      ]
    },
    {
      "cell_type": "markdown",
      "metadata": {
        "id": "VbQSuE6_B6D7"
      },
      "source": [
        "# **Assignment 2 - Q4 (Discriminant Analysis)**\n",
        "Statistical Learning Theory Course - Fall 2020 @ AUT\n",
        "\n",
        "Author: MohammadMohsen Jadidi | email : mohsenjadidi@aut.ac.ir"
      ]
    },
    {
      "cell_type": "code",
      "metadata": {
        "id": "WEwectk4CJuc",
        "outputId": "bf2ec28b-b068-42b9-9da5-d0ffe01dd17a",
        "colab": {
          "base_uri": "https://localhost:8080/"
        }
      },
      "source": [
        "import os\n",
        "import urllib.request\n",
        "urllib.request.urlretrieve('https://raw.githubusercontent.com/MohsenJadidi/ISLR/master/Assignment2/vowel_train.txt', 'vowel_train.txt')\n",
        "urllib.request.urlretrieve('https://raw.githubusercontent.com/MohsenJadidi/ISLR/master/Assignment2/vowel_test.txt', 'vowel_test.txt')"
      ],
      "execution_count": 1,
      "outputs": [
        {
          "output_type": "execute_result",
          "data": {
            "text/plain": [
              "('vowel_test.txt', <http.client.HTTPMessage at 0x7f417ee1a128>)"
            ]
          },
          "metadata": {
            "tags": []
          },
          "execution_count": 1
        }
      ]
    },
    {
      "cell_type": "markdown",
      "metadata": {
        "id": "1wuQrWBCCD_t"
      },
      "source": [
        "## Read Data set"
      ]
    },
    {
      "cell_type": "code",
      "metadata": {
        "id": "Pe4JHT_kBd_r"
      },
      "source": [
        "import numpy as np\n",
        "\n",
        "# Train Data set\n",
        "f = open('vowel_train.txt', 'r')\n",
        "DataFile = f.readlines()\n",
        "\n",
        "DataList = []\n",
        "for i in range(len(DataFile)-1):\n",
        "    List = DataFile[i+1][0:].split(',')\n",
        "    tempList = [float(i) for i in List]\n",
        "    DataList.append(tempList)\n",
        "  \n",
        "Data = np.array(DataList)    \n",
        "X_train = Data[:,2:]\n",
        "Y_train = Data[:,1]\n",
        "\n",
        "del List,  DataList, tempList, Data\n",
        "\n",
        "# Test Data set\n",
        "f = open('vowel_test.txt', 'r')\n",
        "DataFile = f.readlines()\n",
        "\n",
        "DataList = []\n",
        "for i in range(len(DataFile)-1):\n",
        "    List = DataFile[i+1][0:].split(',')\n",
        "    tempList = [float(i) for i in List]\n",
        "    DataList.append(tempList)\n",
        "  \n",
        "Data = np.array(DataList)    \n",
        "X_test = Data[:,2:]\n",
        "Y_test = Data[:,1]\n",
        "\n",
        "del List,  DataList, tempList, Data"
      ],
      "execution_count": 2,
      "outputs": []
    },
    {
      "cell_type": "markdown",
      "metadata": {
        "id": "87W4oKSnB5mD"
      },
      "source": [
        "## Linear Discriminant Analysis"
      ]
    },
    {
      "cell_type": "code",
      "metadata": {
        "id": "PgflDOgGCa60",
        "outputId": "31319383-58be-475b-c81a-0028ab6c2259",
        "colab": {
          "base_uri": "https://localhost:8080/"
        }
      },
      "source": [
        "from sklearn.discriminant_analysis import LinearDiscriminantAnalysis\n",
        "\n",
        "classifier = LinearDiscriminantAnalysis(solver='svd')\n",
        "classifier.fit(X_train, Y_train)\n",
        "\n",
        "accuracyTrain = classifier.score(X_train, Y_train)\n",
        "accuracyTest = classifier.score(X_test, Y_test)\n",
        "print('LDA accuracy :\\n Train set :', accuracyTrain, '| Test set :',accuracyTest)"
      ],
      "execution_count": 3,
      "outputs": [
        {
          "output_type": "stream",
          "text": [
            "LDA accuracy :\n",
            " Train set : 0.6837121212121212 | Test set : 0.44372294372294374\n"
          ],
          "name": "stdout"
        }
      ]
    },
    {
      "cell_type": "markdown",
      "metadata": {
        "id": "KZc6PD0ICdPL"
      },
      "source": [
        "## Quadratic Discriminant Analysis"
      ]
    },
    {
      "cell_type": "code",
      "metadata": {
        "id": "iruni8kTCg4f",
        "outputId": "2151b055-9721-4d97-bba5-c6dc9702f986",
        "colab": {
          "base_uri": "https://localhost:8080/",
          "height": 618
        }
      },
      "source": [
        "from sklearn.discriminant_analysis import QuadraticDiscriminantAnalysis\n",
        "from sklearn.metrics import confusion_matrix, classification_report\n",
        "import seaborn as sn\n",
        "\n",
        "\n",
        "classifier = QuadraticDiscriminantAnalysis()\n",
        "classifier.fit(X_train, Y_train)\n",
        "\n",
        "accuracyTrain = classifier.score(X_train, Y_train)\n",
        "accuracyTest = classifier.score(X_test, Y_test)\n",
        "print('QDA accuracy :\\n Train set :', accuracyTrain, '| Test set :',accuracyTest)\n",
        "\n",
        "Y_pred=classifier.predict(X_test)\n",
        "print(np.unique(Y_pred, return_counts=True))\n",
        "confusionMatrix = confusion_matrix(Y_pred, Y_test)\n",
        "sn.heatmap(confusionMatrix, cmap='inferno', annot=True, linewidths=.25)\n",
        "print(classification_report(Y_test, Y_pred, digits=3))"
      ],
      "execution_count": 4,
      "outputs": [
        {
          "output_type": "stream",
          "text": [
            "QDA accuracy :\n",
            " Train set : 0.9886363636363636 | Test set : 0.47186147186147187\n",
            "(array([ 1.,  2.,  3.,  4.,  5.,  6.,  7.,  8.,  9., 10., 11.]), array([ 66,  46,  16,  20,  32,  50,  81,   7, 101,  12,  31]))\n",
            "              precision    recall  f1-score   support\n",
            "\n",
            "         1.0      0.561     0.881     0.685        42\n",
            "         2.0      0.478     0.524     0.500        42\n",
            "         3.0      0.750     0.286     0.414        42\n",
            "         4.0      0.600     0.286     0.387        42\n",
            "         5.0      0.500     0.381     0.432        42\n",
            "         6.0      0.440     0.524     0.478        42\n",
            "         7.0      0.272     0.524     0.358        42\n",
            "         8.0      0.857     0.143     0.245        42\n",
            "         9.0      0.376     0.905     0.531        42\n",
            "        10.0      0.917     0.262     0.407        42\n",
            "        11.0      0.645     0.476     0.548        42\n",
            "\n",
            "    accuracy                          0.472       462\n",
            "   macro avg      0.581     0.472     0.453       462\n",
            "weighted avg      0.581     0.472     0.453       462\n",
            "\n"
          ],
          "name": "stdout"
        },
        {
          "output_type": "display_data",
          "data": {
            "image/png": "[encoded data removed]",
            "text/plain": [
              "<Figure size 432x288 with 2 Axes>"
            ]
          },
          "metadata": {
            "tags": [],
            "needs_background": "light"
          }
        }
      ]
    }
  ]
}