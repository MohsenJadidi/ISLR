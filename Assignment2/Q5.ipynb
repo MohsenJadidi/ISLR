{
  "nbformat": 4,
  "nbformat_minor": 0,
  "metadata": {
    "colab": {
      "name": "Q5.ipynb",
      "provenance": [],
      "authorship_tag": "ABX9TyPJaG6IgQ7dXZd7ffrrMnCG",
      "include_colab_link": true
    },
    "kernelspec": {
      "name": "python3",
      "display_name": "Python 3"
    }
  },
  "cells": [
    {
      "cell_type": "markdown",
      "metadata": {
        "id": "view-in-github",
        "colab_type": "text"
      },
      "source": [
        "<a href=\"https://colab.research.google.com/github/MohsenJadidi/ISLR/blob/master/Assignment2/Q5.ipynb\" target=\"_parent\"><img src=\"https://colab.research.google.com/assets/colab-badge.svg\" alt=\"Open In Colab\"/></a>"
      ]
    },
    {
      "cell_type": "markdown",
      "metadata": {
        "id": "1ur9fynTfJMX"
      },
      "source": [
        "# **Assignment 2 - Q5 (logistic regression model, notMNIST)**\n",
        "Statistical Learning Theory Course - Fall 2020 @ AUT\n",
        "\n",
        "Author: MohammadMohsen Jadidi | email : mohsenjadidi@aut.ac.ir"
      ]
    },
    {
      "cell_type": "code",
      "metadata": {
        "id": "iZayroj_e_b-"
      },
      "source": [
        ""
      ],
      "execution_count": null,
      "outputs": []
    }
  ]
}