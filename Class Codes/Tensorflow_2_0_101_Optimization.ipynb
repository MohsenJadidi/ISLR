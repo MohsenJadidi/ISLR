{
  "nbformat": 4,
  "nbformat_minor": 0,
  "metadata": {
    "colab": {
      "name": "2 - Tensorflow 2.0 - 101 - Optimization.ipynb",
      "provenance": [],
      "collapsed_sections": []
    },
    "kernelspec": {
      "name": "python3",
      "display_name": "Python 3"
    },
    "accelerator": "GPU"
  },
  "cells": [
    {
      "cell_type": "code",
      "metadata": {
        "id": "sAOSDVob-xsv"
      },
      "source": [
        "#from __future__ import absolute_import, division, print_function, unicode_literals\n",
        "# !pip uninstall tensorflow-gpu -y\n",
        "# !pip install tensorflow-gpu==2.0\n"
      ],
      "execution_count": null,
      "outputs": []
    },
    {
      "cell_type": "code",
      "metadata": {
        "id": "ioLbtB3uGKPX"
      },
      "source": [
        "try:\n",
        "  # %tensorflow_version only exists in Colab.\n",
        "  %tensorflow_version 2.x\n",
        "except Exception:\n",
        "  pass\n"
      ],
      "execution_count": null,
      "outputs": []
    },
    {
      "cell_type": "code",
      "metadata": {
        "id": "XjzlvG5L-0zo",
        "outputId": "dc630b55-6820-4541-9d6f-eaa1cb031f0f",
        "colab": {
          "base_uri": "https://localhost:8080/",
          "height": 35
        }
      },
      "source": [
        "import tensorflow as tf\n",
        "print(tf.__version__)\n",
        "\n",
        "import numpy as np\n",
        "\n",
        "# from tensorflow.keras.layers import Dense, Flatten, Conv2D\n",
        "# from tensorflow.keras import Model\n",
        "\n",
        "import matplotlib.pyplot as plt\n"
      ],
      "execution_count": null,
      "outputs": [
        {
          "output_type": "stream",
          "text": [
            "2.3.0\n"
          ],
          "name": "stdout"
        }
      ]
    },
    {
      "cell_type": "code",
      "metadata": {
        "id": "y_ESHnpR9cOG",
        "outputId": "be136304-4ab8-4e3f-db90-ae1b784464e6",
        "colab": {
          "base_uri": "https://localhost:8080/",
          "height": 267
        }
      },
      "source": [
        "\n",
        "t = np.arange(-2.5, 2, 0.1)\n",
        "\n",
        "# red dashes, blue squares and green triangles\n",
        "plt.grid(b=True)\n",
        "plt.plot(t, t**4+t**3-2*t**2-t+2, 'r--')\n",
        "plt.show()\n"
      ],
      "execution_count": null,
      "outputs": [
        {
          "output_type": "display_data",
          "data": {
            "image/png": "[encoded data removed]",
            "text/plain": [
              "<Figure size 432x288 with 1 Axes>"
            ]
          },
          "metadata": {
            "tags": [],
            "needs_background": "light"
          }
        }
      ]
    },
    {
      "cell_type": "code",
      "metadata": {
        "id": "HCEtRNd9a56I"
      },
      "source": [
        "# x_in = tf.Variable(3,name='x_in')\n",
        "x_in = tf.Variable(2, name='x_in', trainable=True, dtype=tf.float32)\n",
        "# x_in = tf.Variable(-1, name='x_in', trainable=True, dtype=tf.float32)\n",
        "\n"
      ],
      "execution_count": null,
      "outputs": []
    },
    {
      "cell_type": "code",
      "metadata": {
        "id": "_iGOmfVCbrcA"
      },
      "source": [
        "optimizer = tf.keras.optimizers.Adam(.1)\n"
      ],
      "execution_count": null,
      "outputs": []
    },
    {
      "cell_type": "code",
      "metadata": {
        "id": "gbSpGIlkLaik"
      },
      "source": [
        "\n",
        "def train_step_f():\n",
        "  with tf.GradientTape(persistent=True) as tape: #Automatic differentiation and gradient tape\n",
        "    y_o=x_in**4+x_in**3-2*x_in**2-x_in+2\n",
        "\n",
        "  trainable_variables=[x_in]\n",
        "  gradients = tape.gradient(y_o, trainable_variables)\n",
        "#   print(\"------------\")\n",
        "#   print(gradients)\n",
        "#   print(\"------------\")\n",
        "  optimizer.apply_gradients(zip(gradients, trainable_variables))\n",
        "\n",
        "\n"
      ],
      "execution_count": null,
      "outputs": []
    },
    {
      "cell_type": "code",
      "metadata": {
        "id": "bsrEI2RYbXya",
        "outputId": "a0b9afc9-db0c-4e23-9ddd-a9fc8e8fe2be",
        "colab": {
          "base_uri": "https://localhost:8080/",
          "height": 126
        }
      },
      "source": [
        "print(\"before\")\n",
        "print(x_in)\n",
        "print(\"----------------\")\n",
        "train_step_f()\n",
        "print(\"after\")\n",
        "print(x_in)\n",
        "print(\"----------------\")\n"
      ],
      "execution_count": null,
      "outputs": [
        {
          "output_type": "stream",
          "text": [
            "before\n",
            "<tf.Variable 'x_in:0' shape=() dtype=float32, numpy=2.0>\n",
            "----------------\n",
            "after\n",
            "<tf.Variable 'x_in:0' shape=() dtype=float32, numpy=0.9999703>\n",
            "----------------\n"
          ],
          "name": "stdout"
        }
      ]
    },
    {
      "cell_type": "code",
      "metadata": {
        "id": "_ktbXv2cbedK",
        "outputId": "8948fe82-51b0-428b-a5ef-ebb4bb7cd0b7",
        "colab": {
          "base_uri": "https://localhost:8080/",
          "height": 381
        }
      },
      "source": [
        "x_vals=[]\n",
        "y_vals=[]\n",
        "for i in range(50):\n",
        "  train_step_f()\n",
        "  y_test=x_in**4+x_in**3-2*x_in**2-x_in+2\n",
        "  x_vals.append(x_in.numpy())\n",
        "  y_vals.append(y_test.numpy())\n",
        "  if i%5==0:\n",
        "    print(x_in.numpy(),end=\",\")\n",
        "    print(y_test.numpy())\n",
        "    print(\"--------------\")\n"
      ],
      "execution_count": null,
      "outputs": [
        {
          "output_type": "stream",
          "text": [
            "0.2885306,1.5759203\n",
            "--------------\n",
            "-1.7030677,1.3750929\n",
            "--------------\n",
            "-1.4104367,0.58338773\n",
            "--------------\n",
            "-0.7513633,1.5168031\n",
            "--------------\n",
            "-0.86899656,1.2727187\n",
            "--------------\n",
            "-1.4534701,0.62072885\n",
            "--------------\n",
            "-1.4729228,0.6451483\n",
            "--------------\n",
            "-1.1441679,0.7418699\n",
            "--------------\n",
            "-1.339583,0.5669273\n",
            "--------------\n",
            "-1.4480158,0.6147498\n",
            "--------------\n"
          ],
          "name": "stdout"
        }
      ]
    },
    {
      "cell_type": "code",
      "metadata": {
        "id": "dRJnEXRUjl8K",
        "outputId": "a4125e6d-16a3-4af2-8391-e22893252e70",
        "colab": {
          "base_uri": "https://localhost:8080/",
          "height": 265
        }
      },
      "source": [
        "plt.grid(b=True)\n",
        "plt.plot(x_vals)\n",
        "plt.show()\n"
      ],
      "execution_count": null,
      "outputs": [
        {
          "output_type": "display_data",
          "data": {
            "image/png": "[encoded data removed]",
            "text/plain": [
              "<Figure size 432x288 with 1 Axes>"
            ]
          },
          "metadata": {
            "tags": [],
            "needs_background": "light"
          }
        }
      ]
    },
    {
      "cell_type": "code",
      "metadata": {
        "id": "ZQ3lo9AnkSKQ",
        "outputId": "025a5680-58b2-4395-e6af-ac09894845f1",
        "colab": {
          "base_uri": "https://localhost:8080/",
          "height": 265
        }
      },
      "source": [
        "plt.grid(b=True)\n",
        "plt.plot(y_vals)\n",
        "plt.show()\n"
      ],
      "execution_count": null,
      "outputs": [
        {
          "output_type": "display_data",
          "data": {
            "image/png": "[encoded data removed]",
            "text/plain": [
              "<Figure size 432x288 with 1 Axes>"
            ]
          },
          "metadata": {
            "tags": [],
            "needs_background": "light"
          }
        }
      ]
    },
    {
      "cell_type": "code",
      "metadata": {
        "id": "g6vGD8fukGBe"
      },
      "source": [
        "#print(x_vals)"
      ],
      "execution_count": null,
      "outputs": []
    },
    {
      "cell_type": "code",
      "metadata": {
        "id": "sU3KgtlAKRiH"
      },
      "source": [
        "x_in = tf.Variable(2, name='x_in', trainable=True, dtype=tf.float32)\n"
      ],
      "execution_count": null,
      "outputs": []
    },
    {
      "cell_type": "code",
      "metadata": {
        "id": "XBkei9YGclGR"
      },
      "source": [
        "def my_func():\n",
        "    y_tmp = x_in**4+x_in**3-2*x_in**2-x_in+2\n",
        "    return y_tmp\n",
        "\n",
        "trainable_variables=[x_in]\n",
        "\n"
      ],
      "execution_count": null,
      "outputs": []
    },
    {
      "cell_type": "code",
      "metadata": {
        "id": "WMtMTAST6N3p",
        "outputId": "05062fb3-95db-426b-ddbe-d5b1524fafbd",
        "colab": {
          "base_uri": "https://localhost:8080/",
          "height": 35
        }
      },
      "source": [
        "x_in"
      ],
      "execution_count": null,
      "outputs": [
        {
          "output_type": "execute_result",
          "data": {
            "text/plain": [
              "<tf.Variable 'x_in:0' shape=() dtype=float32, numpy=2.0>"
            ]
          },
          "metadata": {
            "tags": []
          },
          "execution_count": 50
        }
      ]
    },
    {
      "cell_type": "code",
      "metadata": {
        "id": "UdZ95iD3JXCa",
        "outputId": "b21470d5-3609-4db7-8233-a49f8a6a1f01",
        "colab": {
          "base_uri": "https://localhost:8080/",
          "height": 35
        }
      },
      "source": [
        "my_func()"
      ],
      "execution_count": null,
      "outputs": [
        {
          "output_type": "execute_result",
          "data": {
            "text/plain": [
              "<tf.Tensor: shape=(), dtype=float32, numpy=16.0>"
            ]
          },
          "metadata": {
            "tags": []
          },
          "execution_count": 51
        }
      ]
    },
    {
      "cell_type": "code",
      "metadata": {
        "id": "R5_jVfi-6L69"
      },
      "source": [
        "# train = optimizer.minimize(my_func, var_list=trainable_variables)\n"
      ],
      "execution_count": null,
      "outputs": []
    },
    {
      "cell_type": "code",
      "metadata": {
        "id": "1McKgg6a8WHb"
      },
      "source": [
        "for i in range(50):\n",
        "  y_test=x_in**4+x_in**3-2*x_in**2-x_in+2\n",
        "  # if i%50==49:\n",
        "  print(x_in.numpy(),end=\",\")\n",
        "  print(y_test.numpy())\n",
        "  print(\"--------------\")\n",
        "  train = optimizer.minimize(my_func, var_list=trainable_variables)\n"
      ],
      "execution_count": null,
      "outputs": []
    },
    {
      "cell_type": "code",
      "metadata": {
        "id": "6n50HWY4IiBE"
      },
      "source": [
        ""
      ],
      "execution_count": null,
      "outputs": []
    }
  ]
}