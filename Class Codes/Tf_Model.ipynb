{
  "nbformat": 4,
  "nbformat_minor": 0,
  "metadata": {
    "colab": {
      "name": "Tf_Model.ipynb",
      "provenance": [],
      "collapsed_sections": []
    },
    "kernelspec": {
      "name": "python3",
      "display_name": "Python 3"
    }
  },
  "cells": [
    {
      "cell_type": "code",
      "metadata": {
        "id": "MIxBxhCvWVfW",
        "outputId": "4150ac74-7e00-474b-9155-15f1f0681e36",
        "colab": {
          "base_uri": "https://localhost:8080/"
        }
      },
      "source": [
        "import tensorflow as tf\n",
        "print(tf.__version__)\n",
        "\n",
        "import numpy as np\n",
        "\n",
        "# from tensorflow.keras.layers import Dense, Flatten, Conv2D\n",
        "from tensorflow.keras import Model\n",
        "\n",
        "import matplotlib.pyplot as plt\n",
        "\n",
        "import csv\n",
        "import time\n",
        "import pandas as pd\n"
      ],
      "execution_count": null,
      "outputs": [
        {
          "output_type": "stream",
          "text": [
            "2.3.0\n"
          ],
          "name": "stdout"
        }
      ]
    },
    {
      "cell_type": "code",
      "metadata": {
        "id": "P8pDmsugXvWr"
      },
      "source": [
        "data_csv=pd.read_csv('Data_fire_theft.csv')\n"
      ],
      "execution_count": null,
      "outputs": []
    },
    {
      "cell_type": "code",
      "metadata": {
        "id": "7r0k0C4eX2TP"
      },
      "source": [
        "data_csv\n"
      ],
      "execution_count": null,
      "outputs": []
    },
    {
      "cell_type": "code",
      "metadata": {
        "id": "8esWFrXXX3sV",
        "outputId": "989b3b13-ff68-46e1-c72d-576f450f2ff3",
        "colab": {
          "base_uri": "https://localhost:8080/"
        }
      },
      "source": [
        "Data=data_csv.to_numpy()\n",
        "Data.shape"
      ],
      "execution_count": null,
      "outputs": [
        {
          "output_type": "execute_result",
          "data": {
            "text/plain": [
              "(42, 2)"
            ]
          },
          "metadata": {
            "tags": []
          },
          "execution_count": 4
        }
      ]
    },
    {
      "cell_type": "code",
      "metadata": {
        "id": "F8-YaEgyX8Ot",
        "outputId": "b9921c32-e842-46f1-e605-6d056b71d73e",
        "colab": {
          "base_uri": "https://localhost:8080/"
        }
      },
      "source": [
        "Data[0:5,:]"
      ],
      "execution_count": null,
      "outputs": [
        {
          "output_type": "execute_result",
          "data": {
            "text/plain": [
              "array([[ 6.2, 29. ],\n",
              "       [ 9.5, 44. ],\n",
              "       [10.5, 36. ],\n",
              "       [ 7.7, 37. ],\n",
              "       [ 8.6, 53. ]])"
            ]
          },
          "metadata": {
            "tags": []
          },
          "execution_count": 6
        }
      ]
    },
    {
      "cell_type": "code",
      "metadata": {
        "id": "8XD89L1GYAUN",
        "outputId": "cb0f0448-ec8d-479d-ee08-3bda8fbd4b73",
        "colab": {
          "base_uri": "https://localhost:8080/",
          "height": 265
        }
      },
      "source": [
        "plt.plot(Data[:,0], Data[:,1], 'ro', label='Original data')\n",
        "\n",
        "plt.show()"
      ],
      "execution_count": null,
      "outputs": [
        {
          "output_type": "display_data",
          "data": {
            "image/png": "[encoded data removed]",
            "text/plain": [
              "<Figure size 432x288 with 1 Axes>"
            ]
          },
          "metadata": {
            "tags": [],
            "needs_background": "light"
          }
        }
      ]
    },
    {
      "cell_type": "code",
      "metadata": {
        "id": "d0iM4y0WYGNG"
      },
      "source": [
        "class MyModel(Model):\n",
        "  def __init__(self):\n",
        "    super(MyModel, self).__init__()\n",
        "    self.w = tf.Variable(4,trainable=True,dtype=np.float64,name='w')\n",
        "    self.b = tf.Variable(2,trainable=True,dtype=np.float64,name='bias')\n",
        "\n",
        "  def call(self, x):\n",
        "    y = self.w*x+self.b\n",
        "    return y\n"
      ],
      "execution_count": null,
      "outputs": []
    },
    {
      "cell_type": "code",
      "metadata": {
        "id": "D2rbSOh9YM8E"
      },
      "source": [
        "model = MyModel()"
      ],
      "execution_count": null,
      "outputs": []
    },
    {
      "cell_type": "code",
      "metadata": {
        "id": "EAdzcyWBYamV",
        "outputId": "a28385bf-f6f7-43fc-c152-dba924175e15",
        "colab": {
          "base_uri": "https://localhost:8080/"
        }
      },
      "source": [
        "model.w.assign(4)"
      ],
      "execution_count": null,
      "outputs": [
        {
          "output_type": "execute_result",
          "data": {
            "text/plain": [
              "<tf.Variable 'UnreadVariable' shape=() dtype=float32, numpy=4.0>"
            ]
          },
          "metadata": {
            "tags": []
          },
          "execution_count": 25
        }
      ]
    },
    {
      "cell_type": "code",
      "metadata": {
        "id": "ltHDFPMOYkP9",
        "outputId": "19de2e71-99b9-4d7e-fa24-a3fd14c5d890",
        "colab": {
          "base_uri": "https://localhost:8080/"
        }
      },
      "source": [
        "model([5])"
      ],
      "execution_count": null,
      "outputs": [
        {
          "output_type": "execute_result",
          "data": {
            "text/plain": [
              "<tf.Tensor: shape=(1,), dtype=float64, numpy=array([22.])>"
            ]
          },
          "metadata": {
            "tags": []
          },
          "execution_count": 38
        }
      ]
    },
    {
      "cell_type": "code",
      "metadata": {
        "id": "J9TkJV5ocVC8"
      },
      "source": [
        "optimizer = tf.keras.optimizers.Adam(learning_rate=.1)"
      ],
      "execution_count": null,
      "outputs": []
    },
    {
      "cell_type": "code",
      "metadata": {
        "id": "iMCbpeMBY0Ck"
      },
      "source": [
        ""
      ],
      "execution_count": null,
      "outputs": []
    },
    {
      "cell_type": "code",
      "metadata": {
        "id": "1Q-oLrlpauoL",
        "outputId": "b63cc1e4-90d7-4b5f-ecee-357c81b2c434",
        "colab": {
          "base_uri": "https://localhost:8080/"
        }
      },
      "source": [
        "train_step([6.9],29)"
      ],
      "execution_count": null,
      "outputs": [
        {
          "output_type": "stream",
          "text": [
            "loss istf.Tensor([0.36000046], shape=(1,), dtype=float64)\n"
          ],
          "name": "stdout"
        }
      ]
    },
    {
      "cell_type": "code",
      "metadata": {
        "id": "BixhXnodbwst",
        "outputId": "c060c6b1-ec88-42b8-ad32-df7bad5b664b",
        "colab": {
          "base_uri": "https://localhost:8080/"
        }
      },
      "source": [
        "[model.w.numpy(), model.b.numpy()]"
      ],
      "execution_count": null,
      "outputs": [
        {
          "output_type": "execute_result",
          "data": {
            "text/plain": [
              "[3.9255863437810996, 1.9255865114589488]"
            ]
          },
          "metadata": {
            "tags": []
          },
          "execution_count": 60
        }
      ]
    },
    {
      "cell_type": "code",
      "metadata": {
        "id": "5ZuKcYmtcZ4T",
        "outputId": "753dc599-2d8a-4973-fe99-603d6d68489d",
        "colab": {
          "base_uri": "https://localhost:8080/"
        }
      },
      "source": [
        "train_step([6.9],29)"
      ],
      "execution_count": null,
      "outputs": [
        {
          "output_type": "stream",
          "text": [
            "loss istf.Tensor([0.02138123], shape=(1,), dtype=float64)\n"
          ],
          "name": "stdout"
        }
      ]
    },
    {
      "cell_type": "code",
      "metadata": {
        "id": "YeWkyRFMcj_T"
      },
      "source": [
        "n_epochs=100\n",
        "Data_len=Data.shape[0]\n",
        "batch_size=20\n",
        "\n",
        "w_list=[]\n",
        "MSE_List=[]"
      ],
      "execution_count": null,
      "outputs": []
    },
    {
      "cell_type": "code",
      "metadata": {
        "id": "oBGsEyZKduKr",
        "outputId": "f1257da9-335b-4577-86c8-305962631ac9",
        "colab": {
          "base_uri": "https://localhost:8080/"
        }
      },
      "source": [
        "Data_len"
      ],
      "execution_count": null,
      "outputs": [
        {
          "output_type": "execute_result",
          "data": {
            "text/plain": [
              "42"
            ]
          },
          "metadata": {
            "tags": []
          },
          "execution_count": 87
        }
      ]
    },
    {
      "cell_type": "code",
      "metadata": {
        "id": "K35kZ8X7eUoC"
      },
      "source": [
        "model = MyModel()\n",
        "\n",
        "w_list=[]\n",
        "MSE_List=[]"
      ],
      "execution_count": null,
      "outputs": []
    },
    {
      "cell_type": "code",
      "metadata": {
        "id": "lnIm711Fidem"
      },
      "source": [
        "def train_step(X, Y):\n",
        "  with tf.GradientTape() as tape:\n",
        "    Y_predicted = model(X)\n",
        "    # loss = (tf.square (Y - Y_predicted))\n",
        "    # print(\"loss is\"+str(loss))\n",
        "    loss = tf.math.reduce_mean(tf.square (Y - Y_predicted))\n",
        "  # print(\"here1\")\n",
        "  # print( model.trainable_variables)\n",
        "  gradients = tape.gradient(loss, model.trainable_variables)\n",
        "  # print(gradients)\n",
        "  # print(\"here2\")\n",
        "  optimizer.apply_gradients(zip(gradients, model.trainable_variables))\n",
        "  # print(\"here3\")"
      ],
      "execution_count": null,
      "outputs": []
    },
    {
      "cell_type": "code",
      "metadata": {
        "id": "ydGgR3ShdA1m",
        "outputId": "a972590f-4bb6-48eb-ce33-f918ca498e6b",
        "colab": {
          "base_uri": "https://localhost:8080/"
        }
      },
      "source": [
        "for epoch in range(n_epochs):\n",
        "  np.random.shuffle(Data)\n",
        "  for iter in range(int(Data_len/batch_size)):\n",
        "    X_batch=[Data[iter*batch_size:(iter+1)*batch_size,0]]\n",
        "    Y_batch=[Data[iter*batch_size:(iter+1)*batch_size,1]]\n",
        "    train_step(X_batch,Y_batch)\n",
        "    w_list.append(model.w.numpy())\n",
        "\n",
        "    Y_hat=model([Data[:,0]])\n",
        "    Train_MSE=np.mean((Data[:,1]-Y_hat)**2)\n",
        "    # print(Train_MSE)\n",
        "    MSE_List.append(Train_MSE)\n"
      ],
      "execution_count": null,
      "outputs": [
        {
          "output_type": "stream",
          "text": [
            "WARNING:tensorflow:Layer my_model_21 is casting an input tensor from dtype float64 to the layer's dtype of float32, which is new behavior in TensorFlow 2.  The layer has dtype float32 because its dtype defaults to floatx.\n",
            "\n",
            "If you intended to run this layer in float32, you can safely ignore this warning. If in doubt, this warning is likely only an issue if you are porting a TensorFlow 1.X model to TensorFlow 2.\n",
            "\n",
            "To change all layers to have dtype float64 by default, call `tf.keras.backend.set_floatx('float64')`. To change just this layer, pass dtype='float64' to the layer constructor. If you are the author of this layer, you can disable autocasting by passing autocast=False to the base Layer constructor.\n",
            "\n"
          ],
          "name": "stdout"
        }
      ]
    },
    {
      "cell_type": "code",
      "metadata": {
        "id": "scRr941adCgy",
        "outputId": "63b63f12-c849-48fd-c45e-61c98735ef85",
        "colab": {
          "base_uri": "https://localhost:8080/",
          "height": 283
        }
      },
      "source": [
        "plt.plot(w_list)\n"
      ],
      "execution_count": null,
      "outputs": [
        {
          "output_type": "execute_result",
          "data": {
            "text/plain": [
              "[<matplotlib.lines.Line2D at 0x7f4e62516b00>]"
            ]
          },
          "metadata": {
            "tags": []
          },
          "execution_count": 177
        },
        {
          "output_type": "display_data",
          "data": {
            "image/png": "[encoded data removed]",
            "text/plain": [
              "<Figure size 432x288 with 1 Axes>"
            ]
          },
          "metadata": {
            "tags": [],
            "needs_background": "light"
          }
        }
      ]
    },
    {
      "cell_type": "code",
      "metadata": {
        "id": "c9w7a8Njd2vS",
        "outputId": "c404691a-b301-4e90-cde8-9cf25958a892",
        "colab": {
          "base_uri": "https://localhost:8080/",
          "height": 283
        }
      },
      "source": [
        "plt.plot(MSE_List)\n"
      ],
      "execution_count": null,
      "outputs": [
        {
          "output_type": "execute_result",
          "data": {
            "text/plain": [
              "[<matplotlib.lines.Line2D at 0x7f4e624f99b0>]"
            ]
          },
          "metadata": {
            "tags": []
          },
          "execution_count": 178
        },
        {
          "output_type": "display_data",
          "data": {
            "image/png": "[encoded data removed]",
            "text/plain": [
              "<Figure size 432x288 with 1 Axes>"
            ]
          },
          "metadata": {
            "tags": [],
            "needs_background": "light"
          }
        }
      ]
    },
    {
      "cell_type": "code",
      "metadata": {
        "id": "m8zmhJmdgSMD",
        "outputId": "dabdd690-64b4-4ec5-9ee7-a603c7cc1fd9",
        "colab": {
          "base_uri": "https://localhost:8080/"
        }
      },
      "source": [
        "MSE_List[-1]"
      ],
      "execution_count": null,
      "outputs": [
        {
          "output_type": "execute_result",
          "data": {
            "text/plain": [
              "361.4439304453682"
            ]
          },
          "metadata": {
            "tags": []
          },
          "execution_count": 179
        }
      ]
    },
    {
      "cell_type": "code",
      "metadata": {
        "id": "GmuxSzgXiGJr",
        "outputId": "aec74a4a-b78b-44f8-c23d-1ba605dae99c",
        "colab": {
          "base_uri": "https://localhost:8080/"
        }
      },
      "source": [
        "MSE_List[-1]"
      ],
      "execution_count": null,
      "outputs": [
        {
          "output_type": "execute_result",
          "data": {
            "text/plain": [
              "361.67940991781546"
            ]
          },
          "metadata": {
            "tags": []
          },
          "execution_count": 140
        }
      ]
    },
    {
      "cell_type": "code",
      "metadata": {
        "id": "tXCmkN71gj9f",
        "outputId": "6ebf7033-15f1-47d0-cb78-38a3b576276c",
        "colab": {
          "base_uri": "https://localhost:8080/",
          "height": 265
        }
      },
      "source": [
        "plt.plot(Data[:,0], Data[:,1], 'ro', label='Original data')\n",
        "\n",
        "predicted_y=np.zeros(0)\n",
        "x_input=np.linspace(Data[:,0].min(),Data[:,0].max(),100)\n",
        "for idx in range(x_input.shape[0]):\n",
        "    predicted_val=model([x_input[idx]])\n",
        "    predicted_y=np.append(predicted_y,predicted_val)\n",
        "    \n",
        "plt.plot(x_input,predicted_y, label='Fitted line')\n",
        "#plt.legend()\n",
        "plt.show()"
      ],
      "execution_count": null,
      "outputs": [
        {
          "output_type": "display_data",
          "data": {
            "image/png": "[encoded data removed]",
            "text/plain": [
              "<Figure size 432x288 with 1 Axes>"
            ]
          },
          "metadata": {
            "tags": [],
            "needs_background": "light"
          }
        }
      ]
    },
    {
      "cell_type": "code",
      "metadata": {
        "id": "PaPfjvjUgqBY",
        "outputId": "e41a75e6-b86f-4acc-e35c-cea5131a4988",
        "colab": {
          "base_uri": "https://localhost:8080/",
          "height": 265
        }
      },
      "source": [
        "plt.plot(Data[:,0], Data[:,1], 'ro', label='Original data')\n",
        "\n",
        "predicted_y=np.zeros(0)\n",
        "x_input=np.linspace(Data[:,0].min(),Data[:,0].max(),100)\n",
        "for idx in range(x_input.shape[0]):\n",
        "    predicted_val=model([x_input[idx]])\n",
        "    predicted_y=np.append(predicted_y,predicted_val)\n",
        "    \n",
        "plt.plot(x_input,predicted_y, label='Fitted line')\n",
        "#plt.legend()\n",
        "plt.show()"
      ],
      "execution_count": null,
      "outputs": [
        {
          "output_type": "display_data",
          "data": {
            "image/png": "[encoded data removed]",
            "text/plain": [
              "<Figure size 432x288 with 1 Axes>"
            ]
          },
          "metadata": {
            "tags": [],
            "needs_background": "light"
          }
        }
      ]
    },
    {
      "cell_type": "code",
      "metadata": {
        "id": "GLqfcnr2hz7z"
      },
      "source": [
        ""
      ],
      "execution_count": null,
      "outputs": []
    }
  ]
}