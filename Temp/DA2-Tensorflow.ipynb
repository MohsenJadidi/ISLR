{
  "nbformat": 4,
  "nbformat_minor": 0,
  "metadata": {
    "colab": {
      "name": "Tensorflow.ipynb",
      "provenance": [],
      "collapsed_sections": []
    },
    "kernelspec": {
      "display_name": "Python 3",
      "name": "python3"
    }
  },
  "cells": [
    {
      "cell_type": "code",
      "metadata": {
        "id": "ytJ2vQTQ9H2f",
        "colab": {
          "base_uri": "https://localhost:8080/"
        },
        "outputId": "107024f2-40eb-451a-9999-1942b5b3ba47"
      },
      "source": [
        "pip install tensorflow==1.15.0"
      ],
      "execution_count": 1,
      "outputs": [
        {
          "output_type": "stream",
          "text": [
            "      Successfully uninstalled tensorflow-2.4.0\n",
            "Successfully installed gast-0.2.2 keras-applications-1.0.8 tensorboard-1.15.0 tensorflow-1.15.0 tensorflow-estimator-1.15.1\n"
          ],
          "name": "stdout"
        }
      ]
    },
    {
      "cell_type": "code",
      "metadata": {
        "id": "2PxkNAqI9228"
      },
      "source": [
        "## Import liberary\r\n",
        "\r\n",
        "import numpy as np\r\n",
        "import pandas as pd\r\n",
        "import tensorflow as tf\r\n",
        "import math\r\n",
        "from sklearn.model_selection import train_test_split\r\n",
        "from sklearn.preprocessing import StandardScaler\r\n",
        "from sklearn.linear_model import LogisticRegression\r\n",
        "from sklearn.pipeline import Pipeline\r\n",
        "from sklearn import kernel_approximation\r\n",
        "from sklearn.metrics import roc_curve, roc_auc_score, classification_report, accuracy_score, confusion_matrix \r\n",
        "from sklearn import svm\r\n",
        "import seaborn as sns\r\n",
        "import matplotlib.pyplot as plt\r\n",
        "import zipfile "
      ],
      "execution_count": 2,
      "outputs": []
    },
    {
      "cell_type": "code",
      "metadata": {
        "id": "fq4MXL2g-VgG"
      },
      "source": [
        "## Import Data and plot count data\r\n",
        "\r\n",
        "Creditcard=pd.read_csv('/content/drive/MyDrive/creditcard.csv');"
      ],
      "execution_count": 3,
      "outputs": []
    },
    {
      "cell_type": "code",
      "metadata": {
        "id": "KTkTZVIC-pUc"
      },
      "source": [
        "## Seperate data and class \r\n",
        "\r\n",
        "X=Creditcard.drop(columns='Class',axis=1)\r\n",
        "Y=Creditcard.Class.values\r\n",
        "Y=2*Y-1;"
      ],
      "execution_count": 4,
      "outputs": []
    },
    {
      "cell_type": "code",
      "metadata": {
        "id": "LzX69ELbFMOo"
      },
      "source": [
        "scaler = StandardScaler()\r\n",
        "scaler.fit(X);\r\n",
        "X=scaler.transform(X)"
      ],
      "execution_count": 5,
      "outputs": []
    },
    {
      "cell_type": "code",
      "metadata": {
        "id": "9tSDfMCm-hR4"
      },
      "source": [
        "## Train and Test split\r\n",
        "\r\n",
        "np.random.seed(42)\r\n",
        "X_train, X_test, Y_train, Y_test = train_test_split(X,Y);"
      ],
      "execution_count": 6,
      "outputs": []
    },
    {
      "cell_type": "code",
      "metadata": {
        "id": "qCDD-H5AF0Li"
      },
      "source": [
        "## tensfor flow setting \r\n",
        "sess = tf.Session()"
      ],
      "execution_count": 9,
      "outputs": []
    },
    {
      "cell_type": "code",
      "metadata": {
        "id": "Y-zXAClJGjFk"
      },
      "source": [
        "## Create the placeholder and Variable  .\r\n",
        "x_data = tf.placeholder(shape=[None, 30], dtype=tf.float32) \r\n",
        "y_target = tf.placeholder(shape=[None, 1], dtype=tf.float32)\r\n",
        "A = tf.Variable(tf.random_normal(shape=[30,1])) \r\n",
        "b = tf.Variable(tf.random_normal(shape=[1,1]))"
      ],
      "execution_count": null,
      "outputs": []
    },
    {
      "cell_type": "code",
      "metadata": {
        "id": "xxtokuuAHNu1"
      },
      "source": [
        "##Declare the model output.\r\n",
        "model_output = tf.subtract(tf.matmul(x_data, A), b)"
      ],
      "execution_count": null,
      "outputs": []
    },
    {
      "cell_type": "code",
      "metadata": {
        "id": "szuwMoolHmlE"
      },
      "source": [
        "##Declare the necessary components for the maximum margin loss.\r\n",
        "l2_norm = tf.reduce_sum(tf.square(A)) \r\n",
        "alpha = tf.constant([0.000001])\r\n",
        "classification_term = tf.reduce_mean(tf.maximum(0., tf.subtract(1.,tf.multiply(model_output, y_target))))\r\n",
        "loss = tf.add(classification_term, tf.multiply(alpha, l2_norm))"
      ],
      "execution_count": null,
      "outputs": []
    },
    {
      "cell_type": "code",
      "metadata": {
        "id": "AVUUuQ6_IFJu"
      },
      "source": [
        "##Declare the prediction and accuracy functions.\r\n",
        "prediction = tf.sign(model_output) \r\n",
        "accuracy = tf.reduce_mean(tf.cast(tf.equal(prediction, y_target), tf.float32))"
      ],
      "execution_count": null,
      "outputs": []
    },
    {
      "cell_type": "code",
      "metadata": {
        "id": "EkepPPoxIs7r"
      },
      "source": [
        "##Declare the optimizer.\r\n",
        "my_opt = tf.train.GradientDescentOptimizer(0.01)\r\n",
        "train_step = my_opt.minimize(loss) \r\n",
        "init = tf.initialize_all_variables() \r\n",
        "sess.run(init);\r\n",
        "op=100;"
      ],
      "execution_count": null,
      "outputs": []
    },
    {
      "cell_type": "code",
      "metadata": {
        "id": "kbhxcPE3Jfpj"
      },
      "source": [
        "loss_vec = []\r\n",
        "train_accuracy = []\r\n",
        "test_accuracy = []\r\n",
        "TPRFPRT=[]\r\n",
        "TPRFPRTe=[]\r\n",
        "for i in range(5000): \r\n",
        "  rand_index = np.random.choice(len(X_train), size=2500)\r\n",
        "  X1 = X_train[rand_index] \r\n",
        "  Y1 = np.transpose([Y_train[rand_index]]) \r\n",
        "  sess.run(train_step, feed_dict={x_data: X1, y_target: Y1})\r\n",
        "  temp_loss = sess.run(loss, feed_dict={x_data: X1, y_target: Y1}) \r\n",
        "  loss_vec.append(temp_loss)\r\n",
        "  train_acc_temp = sess.run(accuracy, feed_dict={x_data: X_train, y_target: np.transpose([Y_train])})    \r\n",
        "  train_accuracy.append(train_acc_temp)    \r\n",
        "  test_acc_temp = sess.run(accuracy, feed_dict={x_data: X_test, y_target: np.transpose([Y_test])})     \r\n",
        "  test_accuracy.append(test_acc_temp)\r\n",
        "  if i%100==0:\r\n",
        "    pre=sess.run(prediction,feed_dict={x_data: X_train})\r\n",
        "    U=confusion_matrix(pre,Y_train)\r\n",
        "    TPRFPRT.append((U[1,1]/U[1,0])*((U[0,0]+U[1,0])/(U[0,1]+U[1,1])));\r\n",
        "    pre=sess.run(prediction,feed_dict={x_data: X_test})\r\n",
        "    U=confusion_matrix(pre,Y_test)\r\n",
        "    TPRFPRTe.append((U[1,1]/U[1,0])*((U[0,0]+U[1,0])/(U[0,1]+U[1,1])));"
      ],
      "execution_count": null,
      "outputs": []
    },
    {
      "cell_type": "code",
      "metadata": {
        "id": "yWo7v8uTheye"
      },
      "source": [
        "f=plt.figure(figsize=(15,8))\r\n",
        "plt.plot(np.arange(1,5001),train_accuracy,label='train')\r\n",
        "plt.plot(np.arange(1,5001),test_accuracy,label='test')\r\n",
        "plt.xlabel('epoch',fontsize=20)\r\n",
        "plt.ylabel('accuracy',fontsize=20)\r\n",
        "plt.legend(fontsize=20);\r\n",
        "plt.title('Accuracy vesus epoch for hard linear svm',fontsize=20);"
      ],
      "execution_count": null,
      "outputs": []
    },
    {
      "cell_type": "code",
      "metadata": {
        "id": "JQV46fsU1J6V"
      },
      "source": [
        "f=plt.figure(figsize=(15,8))\r\n",
        "plt.plot(np.arange(100,5001,step=100),TPRFPRT,label='train')\r\n",
        "plt.plot(np.arange(100,5001,step=100),TPRFPRTe,label='test')\r\n",
        "plt.xlabel('epoch',fontsize=20)\r\n",
        "plt.ylabel('true positive rate/false positive rate',fontsize=20)\r\n",
        "plt.legend(fontsize=20);\r\n",
        "plt.title('true positive rate/false positive rate vesus epoch for hard linear svm',fontsize=20);"
      ],
      "execution_count": null,
      "outputs": []
    },
    {
      "cell_type": "code",
      "metadata": {
        "id": "92pl6Hpg2VAb"
      },
      "source": [
        "## soft linear svm\r\n",
        "sess_linear_soft = tf.Session()\r\n",
        "## Create the placeholder and Variable  .\r\n",
        "x_data = tf.placeholder(shape=[None, 30], dtype=tf.float32) \r\n",
        "y_target = tf.placeholder(shape=[None, 1], dtype=tf.float32)\r\n",
        "A = tf.Variable(tf.random_normal(shape=[30,1])) \r\n",
        "b = tf.Variable(tf.random_normal(shape=[1,1]))\r\n",
        "##Declare the model output.\r\n",
        "model_output = tf.subtract(tf.matmul(x_data, A), b)\r\n",
        "l2_norm = tf.reduce_sum(tf.square(A)) \r\n",
        "alpha = tf.constant([100.0])\r\n",
        "classification_term = tf.reduce_mean(tf.maximum(0., tf.subtract(1.,tf.multiply(model_output, y_target))))\r\n",
        "loss = tf.add(classification_term, tf.multiply(alpha, l2_norm))\r\n",
        "##Declare the prediction and accuracy functions.\r\n",
        "prediction = tf.sign(model_output) \r\n",
        "accuracy = tf.reduce_mean(tf.cast(tf.equal(prediction, y_target), tf.float32))\r\n",
        "##Declare the optimizer.\r\n",
        "my_opt = tf.train.GradientDescentOptimizer(0.01)\r\n",
        "train_step = my_opt.minimize(loss) \r\n",
        "init = tf.global_variables_initializer()\r\n",
        "sess_linear_soft.run(init)"
      ],
      "execution_count": null,
      "outputs": []
    },
    {
      "cell_type": "code",
      "metadata": {
        "id": "dkAX1AK-5za6"
      },
      "source": [
        "loss_vec = []\r\n",
        "train_accuracy = []\r\n",
        "test_accuracy = []\r\n",
        "TPRFPRT=[]\r\n",
        "TPRFPRTe=[]\r\n",
        "for i in range(5000): \r\n",
        "  rand_index = np.random.choice(len(X_train), size=2500)\r\n",
        "  X1 = X_train[rand_index] \r\n",
        "  Y1 = np.transpose([Y_train[rand_index]]) \r\n",
        "  sess_linear_soft.run(train_step, feed_dict={x_data: X1, y_target: Y1})\r\n",
        "  temp_loss = sess_linear_soft.run(loss, feed_dict={x_data: X1, y_target: Y1}) \r\n",
        "  loss_vec.append(temp_loss)\r\n",
        "  train_acc_temp = sess_linear_soft.run(accuracy, feed_dict={x_data: X_train, y_target: np.transpose([Y_train])})    \r\n",
        "  train_accuracy.append(train_acc_temp)    \r\n",
        "  test_acc_temp = sess_linear_soft.run(accuracy, feed_dict={x_data: X_test, y_target: np.transpose([Y_test])})     \r\n",
        "  test_accuracy.append(test_acc_temp)\r\n",
        "  if i%100==0:\r\n",
        "    pre=sess_linear_soft.run(prediction,feed_dict={x_data: X_train})\r\n",
        "    U=confusion_matrix(pre,Y_train)\r\n",
        "    TPRFPRT.append((U[1,1]/(U[1,0]+0.001))*((U[0,0]+U[1,0])/(U[0,1]+U[1,1])));\r\n",
        "    pre=sess_linear_soft.run(prediction,feed_dict={x_data: X_test})\r\n",
        "    U=confusion_matrix(pre,Y_test)\r\n",
        "    TPRFPRTe.append((U[1,1]/(U[1,0]+0.001))*((U[0,0]+U[1,0])/(U[0,1]+U[1,1])));"
      ],
      "execution_count": null,
      "outputs": []
    },
    {
      "cell_type": "code",
      "metadata": {
        "id": "B0iSJZ6M8Dtj"
      },
      "source": [
        "f=plt.figure(figsize=(15,8))\r\n",
        "plt.plot(np.arange(1,5001),train_accuracy,label='train')\r\n",
        "plt.plot(np.arange(1,5001),test_accuracy,label='test')\r\n",
        "plt.xlabel('epoch',fontsize=20)\r\n",
        "plt.ylabel('accuracy',fontsize=20)\r\n",
        "plt.legend(fontsize=20);\r\n",
        "plt.title('Accuracy vesus epoch for soft linear svm',fontsize=20);"
      ],
      "execution_count": null,
      "outputs": []
    },
    {
      "cell_type": "code",
      "metadata": {
        "id": "f1Js00TE9JqM"
      },
      "source": [
        "f=plt.figure(figsize=(15,8))\r\n",
        "plt.plot(np.arange(100,5001,step=100),TPRFPRT,label='train')\r\n",
        "plt.plot(np.arange(100,5001,step=100),TPRFPRTe,label='test')\r\n",
        "plt.xlabel('epoch',fontsize=20)\r\n",
        "plt.ylabel('true positive rate/false positive rate',fontsize=20)\r\n",
        "plt.legend(fontsize=20);\r\n",
        "plt.title('true positive rate/false positive rate vesus epoch for soft linear svm',fontsize=20);"
      ],
      "execution_count": null,
      "outputs": []
    },
    {
      "cell_type": "code",
      "metadata": {
        "id": "mKdaLvKfAQ_m"
      },
      "source": [
        "## Gussian soft\r\n",
        "gussian=tf.Session();\r\n",
        "batch_size=4920\r\n",
        "x_input = tf.placeholder(shape=[None, 30], dtype=tf.float32)\r\n",
        "y_target = tf.placeholder(shape=[None, 1], dtype=tf.float32)\r\n",
        "pred_input = tf.placeholder(shape=[None, 30], dtype=tf.float32)\r\n",
        "b = tf.Variable(tf.random_normal(shape=[1,batch_size])*0.05)\r\n",
        "gamma = tf.constant(-50.0)\r\n",
        "C = tf.constant([0.0000001])\r\n",
        "dist = tf.reduce_sum(tf.square(x_input), 1)\r\n",
        "dist = tf.reshape(dist, [-1,1])\r\n",
        "sq_dists = tf.add(tf.subtract(dist, tf.multiply(2., tf.matmul(x_input, tf.transpose(x_input)))), tf.transpose(dist))\r\n",
        "my_kernel = tf.exp(tf.multiply(gamma, tf.abs(sq_dists)))\r\n",
        "first_term = tf.multiply(C, tf.reduce_sum(b))\r\n",
        "b_vec_cross = tf.matmul(tf.transpose(b), b)\r\n",
        "y_target_cross = tf.matmul(y_target, tf.transpose(y_target))\r\n",
        "second_term = tf.reduce_sum(tf.multiply(my_kernel, tf.multiply(b_vec_cross, y_target_cross)))\r\n",
        "loss = tf.negative(tf.subtract(first_term, second_term))\r\n",
        "rA = tf.reshape(tf.reduce_sum(tf.square(x_input), 1),[-1,1])\r\n",
        "rB = tf.reshape(tf.reduce_sum(tf.square(pred_input), 1),[-1,1])\r\n",
        "pred_sq_dist = tf.add(tf.subtract(rA, tf.multiply(2., tf.matmul(x_input, tf.transpose(pred_input)))), tf.transpose(rB))\r\n",
        "pred_kernel = tf.exp(tf.multiply(gamma, tf.abs(pred_sq_dist)))\r\n",
        "prediction_output = tf.matmul(tf.multiply(tf.transpose(y_target),b), pred_kernel)\r\n",
        "prediction = tf.sign(prediction_output-tf.reduce_mean(prediction_output))\r\n",
        "accuracy = tf.reduce_mean(tf.cast(tf.equal(tf.squeeze(prediction), tf.squeeze(y_target)), tf.float32))\r\n",
        "my_opt = tf.train.GradientDescentOptimizer(0.002)\r\n",
        "train_step = my_opt.minimize(loss)\r\n",
        "init = tf.global_variables_initializer()\r\n",
        "gussian.run(init)\r\n",
        "loss_vec= []\r\n",
        "TPRFPRT=[]\r\n",
        "TPRFPRTe=[]\r\n",
        "TPRT=[];\r\n",
        "FPRT=[];\r\n",
        "TPRTe=[];\r\n",
        "FPRTe=[];\r\n",
        "for i in range(300): \r\n",
        "  rand_index = np.random.choice(len(X_train), size=4920)\r\n",
        "  X1 = X_train[rand_index] \r\n",
        "  Y1 = np.transpose([Y_train[rand_index]]) \r\n",
        "  Y1=Y1.reshape(-1,1)\r\n",
        "  gussian.run(train_step, feed_dict={x_input: X1, y_target: Y1})\r\n",
        "  temp_loss = gussian.run(loss, feed_dict={x_input: X1, y_target: Y1}) \r\n",
        "  loss_vec.append(temp_loss)\r\n",
        "  if i%10==0:\r\n",
        "    pre=gussian.run(prediction, feed_dict={x_input: X1, y_target: Y1, pred_input: X_train})\r\n",
        "    for j in range(pre.shape[1]):\r\n",
        "          if pre[0,j] > 0:\r\n",
        "            pre[0,j] = 1\r\n",
        "          else:\r\n",
        "            pre[0,j] = 0\r\n",
        "    ty=(Y_train+1)/2;       \r\n",
        "    pre=pre.astype(np.int32)        \r\n",
        "    U=confusion_matrix(pre.reshape(-1,),ty.astype(np.int32))\r\n",
        "    TPRFPRT.append((U[1,1]/(U[1,0]))*((U[0,0]+U[1,0])/(U[0,1]+U[1,1])));\r\n",
        "    TPRT.append(U[1,1]/(U[0,1]+U[1,1]))\r\n",
        "    FPRT.append(U[1,0]/(U[0,0]+U[1,0]))\r\n",
        "    pre=gussian.run(prediction, feed_dict={x_input: X1, y_target: Y1, pred_input: X_test})\r\n",
        "    pre=pre.astype(np.int32)\r\n",
        "    U=confusion_matrix(pre.reshape(-1,),Y_test)\r\n",
        "    TPRTe.append(U[1,1]/(U[0,1]+U[1,1]))\r\n",
        "    FPRTe.append(U[1,0]/(U[0,0]+U[1,0]))\r\n",
        "    TPRFPRTe.append((U[1,1]/(U[1,0]))*((U[0,0]+U[1,0])/(U[0,1]+U[1,1]))); \r\n",
        "    \r\n",
        "  "
      ],
      "execution_count": 22,
      "outputs": []
    },
    {
      "cell_type": "code",
      "metadata": {
        "colab": {
          "base_uri": "https://localhost:8080/",
          "height": 527
        },
        "id": "0p8kq6l6R4lh",
        "outputId": "0a2124c4-95c4-4ef2-e68a-94fafdc3c6d0"
      },
      "source": [
        "f=plt.figure(figsize=(15,8))\r\n",
        "plt.plot(np.arange(10,101,step=10),TPRT,label='TPR')\r\n",
        "plt.plot(np.arange(10,101,step=10),FPRT,label='FPR')\r\n",
        "plt.xlabel('epoch',fontsize=20)\r\n",
        "plt.ylabel('rate',fontsize=20)\r\n",
        "plt.legend(fontsize=20);\r\n",
        "plt.title('rate vesus epoch for train soft gussian svm',fontsize=20);"
      ],
      "execution_count": 16,
      "outputs": [
        {
          "output_type": "display_data",
          "data": {
            "image/png": "[encoded data removed]",
            "text/plain": [
              "<Figure size 1080x576 with 1 Axes>"
            ]
          },
          "metadata": {
            "tags": [],
            "needs_background": "light"
          }
        }
      ]
    },
    {
      "cell_type": "code",
      "metadata": {
        "colab": {
          "base_uri": "https://localhost:8080/",
          "height": 527
        },
        "id": "HZPfeCUSs6p5",
        "outputId": "893fec76-8f67-46c8-8316-b75e3bd90943"
      },
      "source": [
        "f=plt.figure(figsize=(15,8))\r\n",
        "plt.plot(np.arange(10,101,step=10),TPRT,label='TPR')\r\n",
        "plt.plot(np.arange(10,101,step=10),FPRT,label='FPR')\r\n",
        "plt.xlabel('epoch',fontsize=20)\r\n",
        "plt.ylabel('rate',fontsize=20)\r\n",
        "plt.legend(fontsize=20);\r\n",
        "plt.title('rate vesus epoch for test soft gussian svm',fontsize=20);"
      ],
      "execution_count": 17,
      "outputs": [
        {
          "output_type": "display_data",
          "data": {
            "image/png": "[encoded data removed]",
            "text/plain": [
              "<Figure size 1080x576 with 1 Axes>"
            ]
          },
          "metadata": {
            "tags": [],
            "needs_background": "light"
          }
        }
      ]
    },
    {
      "cell_type": "code",
      "metadata": {
        "id": "IyNVf9eh8MzG"
      },
      "source": [
        "## Gussian hard\r\n",
        "gussian=tf.Session();\r\n",
        "batch_size=4920\r\n",
        "x_input = tf.placeholder(shape=[None, 30], dtype=tf.float32)\r\n",
        "y_target = tf.placeholder(shape=[None, 1], dtype=tf.float32)\r\n",
        "pred_input = tf.placeholder(shape=[None, 30], dtype=tf.float32)\r\n",
        "b = tf.Variable(tf.random_normal(shape=[1,batch_size])*0.05)\r\n",
        "gamma = tf.constant(-50.0)\r\n",
        "C = tf.constant([10000.0])\r\n",
        "dist = tf.reduce_sum(tf.square(x_input), 1)\r\n",
        "dist = tf.reshape(dist, [-1,1])\r\n",
        "sq_dists = tf.add(tf.subtract(dist, tf.multiply(2., tf.matmul(x_input, tf.transpose(x_input)))), tf.transpose(dist))\r\n",
        "my_kernel = tf.exp(tf.multiply(gamma, tf.abs(sq_dists)))\r\n",
        "first_term = tf.multiply(C, tf.reduce_sum(b))\r\n",
        "b_vec_cross = tf.matmul(tf.transpose(b), b)\r\n",
        "y_target_cross = tf.matmul(y_target, tf.transpose(y_target))\r\n",
        "second_term = tf.reduce_sum(tf.multiply(my_kernel, tf.multiply(b_vec_cross, y_target_cross)))\r\n",
        "loss = tf.negative(tf.subtract(first_term, second_term))\r\n",
        "rA = tf.reshape(tf.reduce_sum(tf.square(x_input), 1),[-1,1])\r\n",
        "rB = tf.reshape(tf.reduce_sum(tf.square(pred_input), 1),[-1,1])\r\n",
        "pred_sq_dist = tf.add(tf.subtract(rA, tf.multiply(2., tf.matmul(x_input, tf.transpose(pred_input)))), tf.transpose(rB))\r\n",
        "pred_kernel = tf.exp(tf.multiply(gamma, tf.abs(pred_sq_dist)))\r\n",
        "prediction_output = tf.matmul(tf.multiply(tf.transpose(y_target),b), pred_kernel)\r\n",
        "prediction = tf.sign(prediction_output-tf.reduce_mean(prediction_output))\r\n",
        "accuracy = tf.reduce_mean(tf.cast(tf.equal(tf.squeeze(prediction), tf.squeeze(y_target)), tf.float32))\r\n",
        "my_opt = tf.train.GradientDescentOptimizer(0.002)\r\n",
        "train_step = my_opt.minimize(loss)\r\n",
        "init = tf.global_variables_initializer()\r\n",
        "gussian.run(init)\r\n",
        "loss_vec= []\r\n",
        "TPRFPRT=[]\r\n",
        "TPRFPRTe=[]\r\n",
        "TPRT=[];\r\n",
        "FPRT=[];\r\n",
        "TPRTe=[];\r\n",
        "FPRTe=[];\r\n",
        "for i in range(100): \r\n",
        "  rand_index = np.random.choice(len(X_train), size=4920)\r\n",
        "  X1 = X_train[rand_index] \r\n",
        "  Y1 = np.transpose([Y_train[rand_index]]) \r\n",
        "  Y1=Y1.reshape(-1,1)\r\n",
        "  gussian.run(train_step, feed_dict={x_input: X1, y_target: Y1})\r\n",
        "  temp_loss = gussian.run(loss, feed_dict={x_input: X1, y_target: Y1}) \r\n",
        "  loss_vec.append(temp_loss)\r\n",
        "  if i%10==0:\r\n",
        "    pre=gussian.run(prediction, feed_dict={x_input: X1, y_target: Y1, pred_input: X_train})\r\n",
        "    for j in range(pre.shape[1]):\r\n",
        "          if pre[0,j] > 0:\r\n",
        "            pre[0,j] = 1\r\n",
        "          else:\r\n",
        "            pre[0,j] = 0\r\n",
        "    ty=(Y_train+1)/2;       \r\n",
        "    pre=pre.astype(np.int32)        \r\n",
        "    U=confusion_matrix(pre.reshape(-1,),ty.astype(np.int32))\r\n",
        "    TPRFPRT.append((U[1,1]/(U[1,0]))*((U[0,0]+U[1,0])/(U[0,1]+U[1,1])));\r\n",
        "    TPRT.append(U[1,1]/(U[0,1]+U[1,1]))\r\n",
        "    FPRT.append(U[1,0]/(U[0,0]+U[1,0]))\r\n",
        "    pre=gussian.run(prediction, feed_dict={x_input: X1, y_target: Y1, pred_input: X_test})\r\n",
        "    pre=pre.astype(np.int32)\r\n",
        "    U=confusion_matrix(pre.reshape(-1,),Y_test)\r\n",
        "    TPRTe.append(U[1,1]/(U[0,1]+U[1,1]))\r\n",
        "    FPRTe.append(U[1,0]/(U[0,0]+U[1,0]))\r\n",
        "    TPRFPRTe.append((U[1,1]/(U[1,0]))*((U[0,0]+U[1,0])/(U[0,1]+U[1,1]))); \r\n",
        "    \r\n",
        "  "
      ],
      "execution_count": 18,
      "outputs": []
    },
    {
      "cell_type": "code",
      "metadata": {
        "colab": {
          "base_uri": "https://localhost:8080/",
          "height": 527
        },
        "id": "YQuqw8EGRJxo",
        "outputId": "8496bd15-0ae4-40ed-8f4e-0f58db476379"
      },
      "source": [
        "f=plt.figure(figsize=(15,8))\r\n",
        "plt.plot(np.arange(10,101,step=10),TPRT,label='TPR')\r\n",
        "plt.plot(np.arange(10,101,step=10),FPRT,label='FPR')\r\n",
        "plt.xlabel('epoch',fontsize=20)\r\n",
        "plt.ylabel('rate',fontsize=20)\r\n",
        "plt.legend(fontsize=20);\r\n",
        "plt.title('rate vesus epoch for train hard gussian svm',fontsize=20);"
      ],
      "execution_count": 19,
      "outputs": [
        {
          "output_type": "display_data",
          "data": {
            "image/png": "[encoded data removed]",
            "text/plain": [
              "<Figure size 1080x576 with 1 Axes>"
            ]
          },
          "metadata": {
            "tags": [],
            "needs_background": "light"
          }
        }
      ]
    },
    {
      "cell_type": "code",
      "metadata": {
        "colab": {
          "base_uri": "https://localhost:8080/",
          "height": 527
        },
        "id": "LHDckRCfRe2v",
        "outputId": "62daea3b-31a3-43e2-c276-520353363f8f"
      },
      "source": [
        "f=plt.figure(figsize=(15,8))\r\n",
        "plt.plot(np.arange(10,101,step=10),TPRT,label='TPR')\r\n",
        "plt.plot(np.arange(10,101,step=10),FPRT,label='FPR')\r\n",
        "plt.xlabel('epoch',fontsize=20)\r\n",
        "plt.ylabel('rate',fontsize=20)\r\n",
        "plt.legend(fontsize=20);\r\n",
        "plt.title('rate vesus epoch for test soft gussian svm',fontsize=20);"
      ],
      "execution_count": 20,
      "outputs": [
        {
          "output_type": "display_data",
          "data": {
            "image/png": "[encoded data removed]",
            "text/plain": [
              "<Figure size 1080x576 with 1 Axes>"
            ]
          },
          "metadata": {
            "tags": [],
            "needs_background": "light"
          }
        }
      ]
    },
    {
      "cell_type": "code",
      "metadata": {
        "id": "qJoCYfCi4RDM"
      },
      "source": [
        "def poly(x,y):\r\n",
        "  K=np.zeros((len(x)+1,len(x)+1))\r\n",
        "  for i in range(len(x)):\r\n",
        "    for j in range(len(x)):\r\n",
        "      K[i,j]=y[i]*y[j]*math.pow((np.dot(x[i,:],x[j,:].transpose())),3)\r\n",
        "  for i in range(len(x)):\r\n",
        "    K[i,len(x)]=y[i]\r\n",
        "    K[len(x),i]=y[i]\r\n",
        "  return K\r\n",
        "\r\n"
      ],
      "execution_count": 64,
      "outputs": []
    },
    {
      "cell_type": "code",
      "metadata": {
        "colab": {
          "base_uri": "https://localhost:8080/"
        },
        "id": "SmO5FO3dEdIK",
        "outputId": "72bea9ed-d969-4754-da3b-0c0b90d91b7f"
      },
      "source": [
        "X=np.array([[1,2],[2,1]])\r\n",
        "Y=np.array([1,2])\r\n",
        "poly(X,Y)"
      ],
      "execution_count": 57,
      "outputs": [
        {
          "output_type": "execute_result",
          "data": {
            "text/plain": [
              "array([[1., 2., 1.],\n",
              "       [2., 4., 2.],\n",
              "       [1., 2., 0.]])"
            ]
          },
          "metadata": {
            "tags": []
          },
          "execution_count": 57
        }
      ]
    },
    {
      "cell_type": "code",
      "metadata": {
        "id": "QEnlj5IJEwMN"
      },
      "source": [
        "batch_size=200\r\n",
        "q=np.ones((batch_size+1,1))\r\n",
        "q[batch_size,0]=q[batch_size,0]-1\r\n",
        "q=q.astype(np.float64)"
      ],
      "execution_count": 65,
      "outputs": []
    },
    {
      "cell_type": "code",
      "metadata": {
        "colab": {
          "base_uri": "https://localhost:8080/"
        },
        "id": "9VHyiBbf-VUl",
        "outputId": "eccec64e-4338-4e0f-b3d6-42fb1a5f65d0"
      },
      "source": [
        "## poly degree 3 \r\n",
        "poly1=tf.Session();\r\n",
        "A = tf.Variable(tf.random_normal(shape=[batch_size+1,1],dtype=tf.float64)*100000)\r\n",
        "init = tf.global_variables_initializer()\r\n",
        "poly1.run(init)\r\n",
        "for i in range(100):\r\n",
        "  rand_index = np.random.choice(len(X_train), size=batch_size)\r\n",
        "  X1 = X_train[rand_index] \r\n",
        "  Y1 = np.transpose([Y_train[rand_index]]) \r\n",
        "  second_term=tf.matmul(tf.transpose(q),A)\r\n",
        "  first_term=tf.matmul(tf.matmul(tf.transpose(A),poly(X1,Y1)/2),A)\r\n",
        "  loss=tf.subtract(first_term,second_term)\r\n",
        "  my_opt = tf.train.GradientDescentOptimizer(0.001)\r\n",
        "  train_step = my_opt.minimize(loss)\r\n",
        "  poly1.run(train_step)\r\n",
        "  losss=poly1.run(loss)\r\n",
        "  print(losss)\r\n",
        "\r\n",
        "\r\n"
      ],
      "execution_count": 67,
      "outputs": [
        {
          "output_type": "stream",
          "text": [
            "[[4.94000779e+25]]\n",
            "[[3.38873221e+37]]\n",
            "[[2.09485577e+38]]\n",
            "[[1.87771154e+41]]\n",
            "[[4.03341416e+44]]\n",
            "[[9.55496427e+57]]\n",
            "[[2.33069353e+54]]\n",
            "[[7.09121258e+68]]\n",
            "[[3.34096347e+68]]\n",
            "[[1.06020481e+77]]\n",
            "[[9.81006849e+77]]\n",
            "[[8.69675846e+85]]\n",
            "[[5.00179663e+94]]\n",
            "[[2.11595069e+92]]\n",
            "[[6.89815275e+103]]\n",
            "[[1.32415281e+105]]\n",
            "[[2.98598016e+111]]\n",
            "[[3.6864939e+118]]\n",
            "[[1.92642947e+123]]\n",
            "[[2.37044172e+125]]\n",
            "[[2.50354612e+132]]\n",
            "[[4.88543813e+133]]\n",
            "[[7.62394756e+138]]\n",
            "[[1.90183691e+145]]\n",
            "[[2.83990469e+149]]\n",
            "[[1.92036646e+156]]\n",
            "[[1.1263527e+158]]\n",
            "[[7.53451691e+164]]\n",
            "[[1.61234144e+170]]\n",
            "[[1.68615338e+178]]\n",
            "[[3.30415493e+176]]\n",
            "[[4.9200896e+183]]\n",
            "[[3.05690621e+186]]\n",
            "[[1.45267096e+194]]\n",
            "[[5.39187533e+197]]\n",
            "[[5.16229891e+209]]\n",
            "[[7.93345244e+211]]\n",
            "[[1.96302542e+213]]\n",
            "[[1.66018618e+224]]\n",
            "[[4.62264292e+227]]\n",
            "[[2.09024183e+240]]\n",
            "[[3.99394424e+240]]\n",
            "[[3.94114891e+244]]\n",
            "[[1.00680137e+246]]\n",
            "[[3.38553182e+254]]\n",
            "[[1.02305045e+253]]\n",
            "[[2.98319844e+262]]\n",
            "[[3.97075205e+269]]\n",
            "[[5.84785377e+268]]\n",
            "[[9.87942833e+281]]\n",
            "[[3.71132631e+286]]\n",
            "[[3.17507054e+285]]\n",
            "[[1.56262202e+292]]\n",
            "[[1.17389954e+305]]\n",
            "[[4.50841001e+302]]\n",
            "[[nan]]\n",
            "[[nan]]\n",
            "[[nan]]\n",
            "[[nan]]\n",
            "[[nan]]\n",
            "[[nan]]\n",
            "[[nan]]\n",
            "[[nan]]\n",
            "[[nan]]\n",
            "[[nan]]\n",
            "[[nan]]\n",
            "[[nan]]\n",
            "[[nan]]\n",
            "[[nan]]\n",
            "[[nan]]\n",
            "[[nan]]\n",
            "[[nan]]\n",
            "[[nan]]\n",
            "[[nan]]\n",
            "[[nan]]\n",
            "[[nan]]\n",
            "[[nan]]\n",
            "[[nan]]\n",
            "[[nan]]\n",
            "[[nan]]\n",
            "[[nan]]\n",
            "[[nan]]\n",
            "[[nan]]\n",
            "[[nan]]\n",
            "[[nan]]\n",
            "[[nan]]\n",
            "[[nan]]\n",
            "[[nan]]\n",
            "[[nan]]\n",
            "[[nan]]\n",
            "[[nan]]\n",
            "[[nan]]\n",
            "[[nan]]\n",
            "[[nan]]\n",
            "[[nan]]\n",
            "[[nan]]\n",
            "[[nan]]\n",
            "[[nan]]\n",
            "[[nan]]\n",
            "[[nan]]\n"
          ],
          "name": "stdout"
        }
      ]
    },
    {
      "cell_type": "code",
      "metadata": {
        "colab": {
          "base_uri": "https://localhost:8080/"
        },
        "id": "kWGS-IBBAjpT",
        "outputId": "34cdcbd4-e642-4542-df67-e2e6ca4c2017"
      },
      "source": [
        "tf.matmul(tf.matmul(tf.transpose(A),poly(X1,Y1)),A)"
      ],
      "execution_count": 28,
      "outputs": [
        {
          "output_type": "execute_result",
          "data": {
            "text/plain": [
              "<tf.Tensor 'MatMul_12:0' shape=(1, 1) dtype=float64>"
            ]
          },
          "metadata": {
            "tags": []
          },
          "execution_count": 28
        }
      ]
    },
    {
      "cell_type": "code",
      "metadata": {
        "colab": {
          "base_uri": "https://localhost:8080/"
        },
        "id": "8HJrenOO7vCY",
        "outputId": "22f469f3-d9e2-4c97-9ffb-300abf2c1dc1"
      },
      "source": [
        "Y1.shape"
      ],
      "execution_count": 13,
      "outputs": [
        {
          "output_type": "execute_result",
          "data": {
            "text/plain": [
              "(200, 1)"
            ]
          },
          "metadata": {
            "tags": []
          },
          "execution_count": 13
        }
      ]
    },
    {
      "cell_type": "code",
      "metadata": {
        "colab": {
          "base_uri": "https://localhost:8080/"
        },
        "id": "bGekjlQ0YE2_",
        "outputId": "fcdd5412-ef27-4221-c534-ea39d73e8d4d"
      },
      "source": [
        "np.sign(pre).astype(np.int32)\r\n",
        "pre+0."
      ],
      "execution_count": 24,
      "outputs": [
        {
          "output_type": "execute_result",
          "data": {
            "text/plain": [
              "array([-1, -1, -1, ..., -1, -1, -1])"
            ]
          },
          "metadata": {
            "tags": []
          },
          "execution_count": 24
        }
      ]
    }
  ]
}